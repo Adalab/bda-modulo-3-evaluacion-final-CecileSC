{
 "cells": [
  {
   "cell_type": "markdown",
   "metadata": {},
   "source": [
    "##### Fase 3: Evaluación de Diferencias en Reservas de Vuelos por Nivel Educativo"
   ]
  },
  {
   "cell_type": "code",
   "execution_count": 44,
   "metadata": {},
   "outputs": [],
   "source": [
    "\n",
    "# importamos las librerías que necesitamos\n",
    "\n",
    "# Tratamiento de datos\n",
    "# -----------------------------------------------------------------------\n",
    "import pandas as pd\n",
    "import numpy as np\n",
    "\n",
    "# Visualización\n",
    "# ------------------------------------------------------------------------------\n",
    "import matplotlib.pyplot as plt\n",
    "import seaborn as sns\n",
    "\n",
    "# Evaluar linealidad de las relaciones entre las variables\n",
    "# y la distribución de las variables\n",
    "# ------------------------------------------------------------------------------\n",
    "import scipy.stats as stats\n",
    "from scipy.stats import chi2_contingency, ttest_ind\n",
    "from scipy.stats import shapiro\n",
    "from scipy.stats import mannwhitneyu\n",
    "# Configuración\n",
    "# -----------------------------------------------------------------------\n",
    "pd.set_option('display.max_columns', None) # para poder visualizar todas las columnas de los DataFrames\n",
    "\n",
    "# Gestión de los warnings\n",
    "# -----------------------------------------------------------------------\n",
    "import warnings\n",
    "warnings.filterwarnings(\"ignore\")"
   ]
  },
  {
   "cell_type": "code",
   "execution_count": 4,
   "metadata": {},
   "outputs": [
    {
     "data": {
      "text/html": [
       "<div>\n",
       "<style scoped>\n",
       "    .dataframe tbody tr th:only-of-type {\n",
       "        vertical-align: middle;\n",
       "    }\n",
       "\n",
       "    .dataframe tbody tr th {\n",
       "        vertical-align: top;\n",
       "    }\n",
       "\n",
       "    .dataframe thead th {\n",
       "        text-align: right;\n",
       "    }\n",
       "</style>\n",
       "<table border=\"1\" class=\"dataframe\">\n",
       "  <thead>\n",
       "    <tr style=\"text-align: right;\">\n",
       "      <th></th>\n",
       "      <th>Loyalty Numberflight</th>\n",
       "      <th>Year</th>\n",
       "      <th>Month</th>\n",
       "      <th>Flights Booked</th>\n",
       "      <th>Flights with Companions</th>\n",
       "      <th>Total Flights</th>\n",
       "      <th>Distance</th>\n",
       "      <th>Points Accumulated</th>\n",
       "      <th>Points Redeemed</th>\n",
       "      <th>Dollar Cost Points Redeemed</th>\n",
       "      <th>Loyalty Number</th>\n",
       "      <th>Country</th>\n",
       "      <th>Province</th>\n",
       "      <th>City</th>\n",
       "      <th>Postal Code</th>\n",
       "      <th>Gender</th>\n",
       "      <th>Education</th>\n",
       "      <th>Salary</th>\n",
       "      <th>Marital Status</th>\n",
       "      <th>Loyalty Card</th>\n",
       "      <th>CLV</th>\n",
       "      <th>Enrollment Type</th>\n",
       "      <th>Enrollment Year</th>\n",
       "      <th>Enrollment Month</th>\n",
       "      <th>Cancellation Year</th>\n",
       "      <th>Cancellation Month</th>\n",
       "    </tr>\n",
       "  </thead>\n",
       "  <tbody>\n",
       "    <tr>\n",
       "      <th>0</th>\n",
       "      <td>100018</td>\n",
       "      <td>2017</td>\n",
       "      <td>1</td>\n",
       "      <td>3</td>\n",
       "      <td>0</td>\n",
       "      <td>3</td>\n",
       "      <td>1521</td>\n",
       "      <td>152.0</td>\n",
       "      <td>0</td>\n",
       "      <td>0</td>\n",
       "      <td>480934</td>\n",
       "      <td>Canada</td>\n",
       "      <td>Ontario</td>\n",
       "      <td>Toronto</td>\n",
       "      <td>M2Z 4K1</td>\n",
       "      <td>Female</td>\n",
       "      <td>Bachelor</td>\n",
       "      <td>83236.0</td>\n",
       "      <td>Married</td>\n",
       "      <td>Star</td>\n",
       "      <td>3839.14</td>\n",
       "      <td>Standard</td>\n",
       "      <td>2016</td>\n",
       "      <td>2</td>\n",
       "      <td>0</td>\n",
       "      <td>0</td>\n",
       "    </tr>\n",
       "    <tr>\n",
       "      <th>1</th>\n",
       "      <td>100102</td>\n",
       "      <td>2017</td>\n",
       "      <td>1</td>\n",
       "      <td>10</td>\n",
       "      <td>4</td>\n",
       "      <td>14</td>\n",
       "      <td>2030</td>\n",
       "      <td>203.0</td>\n",
       "      <td>0</td>\n",
       "      <td>0</td>\n",
       "      <td>549612</td>\n",
       "      <td>Canada</td>\n",
       "      <td>Alberta</td>\n",
       "      <td>Edmonton</td>\n",
       "      <td>T3G 6Y6</td>\n",
       "      <td>Male</td>\n",
       "      <td>College</td>\n",
       "      <td>73455.0</td>\n",
       "      <td>Divorced</td>\n",
       "      <td>Star</td>\n",
       "      <td>3839.61</td>\n",
       "      <td>Standard</td>\n",
       "      <td>2016</td>\n",
       "      <td>3</td>\n",
       "      <td>0</td>\n",
       "      <td>0</td>\n",
       "    </tr>\n",
       "  </tbody>\n",
       "</table>\n",
       "</div>"
      ],
      "text/plain": [
       "   Loyalty Numberflight  Year  Month  Flights Booked  Flights with Companions  \\\n",
       "0                100018  2017      1               3                        0   \n",
       "1                100102  2017      1              10                        4   \n",
       "\n",
       "   Total Flights  Distance  Points Accumulated  Points Redeemed  \\\n",
       "0              3      1521               152.0                0   \n",
       "1             14      2030               203.0                0   \n",
       "\n",
       "   Dollar Cost Points Redeemed  Loyalty Number Country Province      City  \\\n",
       "0                            0          480934  Canada  Ontario   Toronto   \n",
       "1                            0          549612  Canada  Alberta  Edmonton   \n",
       "\n",
       "  Postal Code  Gender Education   Salary Marital Status Loyalty Card      CLV  \\\n",
       "0     M2Z 4K1  Female  Bachelor  83236.0        Married         Star  3839.14   \n",
       "1     T3G 6Y6    Male   College  73455.0       Divorced         Star  3839.61   \n",
       "\n",
       "  Enrollment Type  Enrollment Year  Enrollment Month  Cancellation Year  \\\n",
       "0        Standard             2016                 2                  0   \n",
       "1        Standard             2016                 3                  0   \n",
       "\n",
       "   Cancellation Month  \n",
       "0                   0  \n",
       "1                   0  "
      ]
     },
     "execution_count": 4,
     "metadata": {},
     "output_type": "execute_result"
    }
   ],
   "source": [
    "#cargar el df unido\n",
    "df = pd.read_csv(\"Customer_Flight_Loyalty_unido.csv\", index_col=0) \n",
    "df.head(2)"
   ]
  },
  {
   "cell_type": "markdown",
   "metadata": {},
   "source": [
    "#Objetivo del Ejercicio: Utilizando un conjunto de datos que hemos compartido,se busca evaluar si existen diferencias\n",
    " significativas en el número de vuelos reservados según el nivel educativo de los clientes. "
   ]
  },
  {
   "cell_type": "markdown",
   "metadata": {},
   "source": [
    "#Seleccionar una Métrica Principal: promedio, la desviación estandar, los percentiles"
   ]
  },
  {
   "cell_type": "markdown",
   "metadata": {},
   "source": [
    "#Seleccionar un Grupo de Control y un Grupo de Prueba:\n"
   ]
  },
  {
   "cell_type": "code",
   "execution_count": 39,
   "metadata": {},
   "outputs": [
    {
     "name": "stdout",
     "output_type": "stream",
     "text": [
      "Educación Superior:\n"
     ]
    },
    {
     "data": {
      "text/html": [
       "<div>\n",
       "<style scoped>\n",
       "    .dataframe tbody tr th:only-of-type {\n",
       "        vertical-align: middle;\n",
       "    }\n",
       "\n",
       "    .dataframe tbody tr th {\n",
       "        vertical-align: top;\n",
       "    }\n",
       "\n",
       "    .dataframe thead th {\n",
       "        text-align: right;\n",
       "    }\n",
       "</style>\n",
       "<table border=\"1\" class=\"dataframe\">\n",
       "  <thead>\n",
       "    <tr style=\"text-align: right;\">\n",
       "      <th></th>\n",
       "      <th>Flights Booked</th>\n",
       "      <th>Education Group</th>\n",
       "    </tr>\n",
       "  </thead>\n",
       "  <tbody>\n",
       "    <tr>\n",
       "      <th>0</th>\n",
       "      <td>3</td>\n",
       "      <td>Educación Superior</td>\n",
       "    </tr>\n",
       "    <tr>\n",
       "      <th>4</th>\n",
       "      <td>0</td>\n",
       "      <td>Educación Superior</td>\n",
       "    </tr>\n",
       "    <tr>\n",
       "      <th>5</th>\n",
       "      <td>0</td>\n",
       "      <td>Educación Superior</td>\n",
       "    </tr>\n",
       "    <tr>\n",
       "      <th>7</th>\n",
       "      <td>0</td>\n",
       "      <td>Educación Superior</td>\n",
       "    </tr>\n",
       "    <tr>\n",
       "      <th>8</th>\n",
       "      <td>6</td>\n",
       "      <td>Educación Superior</td>\n",
       "    </tr>\n",
       "  </tbody>\n",
       "</table>\n",
       "</div>"
      ],
      "text/plain": [
       "   Flights Booked     Education Group\n",
       "0               3  Educación Superior\n",
       "4               0  Educación Superior\n",
       "5               0  Educación Superior\n",
       "7               0  Educación Superior\n",
       "8               6  Educación Superior"
      ]
     },
     "metadata": {},
     "output_type": "display_data"
    },
    {
     "name": "stdout",
     "output_type": "stream",
     "text": [
      "\n",
      "Educación No Superior:\n"
     ]
    },
    {
     "data": {
      "text/html": [
       "<div>\n",
       "<style scoped>\n",
       "    .dataframe tbody tr th:only-of-type {\n",
       "        vertical-align: middle;\n",
       "    }\n",
       "\n",
       "    .dataframe tbody tr th {\n",
       "        vertical-align: top;\n",
       "    }\n",
       "\n",
       "    .dataframe thead th {\n",
       "        text-align: right;\n",
       "    }\n",
       "</style>\n",
       "<table border=\"1\" class=\"dataframe\">\n",
       "  <thead>\n",
       "    <tr style=\"text-align: right;\">\n",
       "      <th></th>\n",
       "      <th>Flights Booked</th>\n",
       "      <th>Education Group</th>\n",
       "    </tr>\n",
       "  </thead>\n",
       "  <tbody>\n",
       "    <tr>\n",
       "      <th>1</th>\n",
       "      <td>10</td>\n",
       "      <td>Educación No Superior</td>\n",
       "    </tr>\n",
       "    <tr>\n",
       "      <th>2</th>\n",
       "      <td>6</td>\n",
       "      <td>Educación No Superior</td>\n",
       "    </tr>\n",
       "    <tr>\n",
       "      <th>3</th>\n",
       "      <td>0</td>\n",
       "      <td>Educación No Superior</td>\n",
       "    </tr>\n",
       "    <tr>\n",
       "      <th>6</th>\n",
       "      <td>0</td>\n",
       "      <td>Educación No Superior</td>\n",
       "    </tr>\n",
       "    <tr>\n",
       "      <th>13</th>\n",
       "      <td>0</td>\n",
       "      <td>Educación No Superior</td>\n",
       "    </tr>\n",
       "  </tbody>\n",
       "</table>\n",
       "</div>"
      ],
      "text/plain": [
       "    Flights Booked        Education Group\n",
       "1               10  Educación No Superior\n",
       "2                6  Educación No Superior\n",
       "3                0  Educación No Superior\n",
       "6                0  Educación No Superior\n",
       "13               0  Educación No Superior"
      ]
     },
     "metadata": {},
     "output_type": "display_data"
    }
   ],
   "source": [
    "\n",
    "\n",
    "#filtro por las columnas que necesito\n",
    "df_filtrado = df[['Flights Booked', 'Education']]\n",
    "\n",
    "\n",
    "# Crear una nueva columna 'Education Group' basada en 'Education'\n",
    "df_filtrado['Education Group'] = df_filtrado['Education']\n",
    "\n",
    "# Reemplazar los valores en 'Education Group' según la categoría\n",
    "\n",
    "df_filtrado.loc[df_filtrado['Education'].isin(['Bachelor', 'Master', 'Doctor']), 'Education Group'] = 'Educación Superior'\n",
    "df_filtrado.loc[df_filtrado['Education'].isin(['High School or Below', 'College']), 'Education Group'] = 'Educación No Superior'\n",
    "\n",
    "#filtro por las columnas que necesito\n",
    "df_filtrado = df_filtrado[['Flights Booked', 'Education Group']]\n",
    "\n",
    "# Filtrar los datos por las nuevas categorías\n",
    "df_superior = df_filtrado[df_filtrado['Education Group'] == 'Educación Superior']\n",
    "df_no_superior = df_filtrado[df_filtrado['Education Group'] == 'Educación No Superior']\n",
    "\n",
    "# Mostrar las primeras filas de cada DataFrame\n",
    "print(\"Educación Superior:\")\n",
    "display(df_superior.head())\n",
    "\n",
    "print(\"\\nEducación No Superior:\")\n",
    "display(df_no_superior.head())\n"
   ]
  },
  {
   "cell_type": "markdown",
   "metadata": {},
   "source": [
    "#Analizar los Datos"
   ]
  },
  {
   "cell_type": "code",
   "execution_count": 42,
   "metadata": {},
   "outputs": [
    {
     "name": "stdout",
     "output_type": "stream",
     "text": [
      "Columnas:\n"
     ]
    },
    {
     "data": {
      "text/plain": [
       "Index(['Flights Booked', 'Education Group'], dtype='object')"
      ]
     },
     "metadata": {},
     "output_type": "display_data"
    },
    {
     "name": "stdout",
     "output_type": "stream",
     "text": [
      "----------------------------------------\n",
      "Primeras filas:\n"
     ]
    },
    {
     "data": {
      "text/html": [
       "<div>\n",
       "<style scoped>\n",
       "    .dataframe tbody tr th:only-of-type {\n",
       "        vertical-align: middle;\n",
       "    }\n",
       "\n",
       "    .dataframe tbody tr th {\n",
       "        vertical-align: top;\n",
       "    }\n",
       "\n",
       "    .dataframe thead th {\n",
       "        text-align: right;\n",
       "    }\n",
       "</style>\n",
       "<table border=\"1\" class=\"dataframe\">\n",
       "  <thead>\n",
       "    <tr style=\"text-align: right;\">\n",
       "      <th></th>\n",
       "      <th>Flights Booked</th>\n",
       "      <th>Education Group</th>\n",
       "    </tr>\n",
       "  </thead>\n",
       "  <tbody>\n",
       "    <tr>\n",
       "      <th>0</th>\n",
       "      <td>3</td>\n",
       "      <td>Educación Superior</td>\n",
       "    </tr>\n",
       "    <tr>\n",
       "      <th>1</th>\n",
       "      <td>10</td>\n",
       "      <td>Educación No Superior</td>\n",
       "    </tr>\n",
       "  </tbody>\n",
       "</table>\n",
       "</div>"
      ],
      "text/plain": [
       "   Flights Booked        Education Group\n",
       "0               3     Educación Superior\n",
       "1              10  Educación No Superior"
      ]
     },
     "metadata": {},
     "output_type": "display_data"
    },
    {
     "name": "stdout",
     "output_type": "stream",
     "text": [
      "----------------------------------------\n",
      "Información general:\n",
      "<class 'pandas.core.frame.DataFrame'>\n",
      "Index: 16618 entries, 0 to 16736\n",
      "Data columns (total 2 columns):\n",
      " #   Column           Non-Null Count  Dtype \n",
      "---  ------           --------------  ----- \n",
      " 0   Flights Booked   16618 non-null  int64 \n",
      " 1   Education Group  16618 non-null  object\n",
      "dtypes: int64(1), object(1)\n",
      "memory usage: 389.5+ KB\n"
     ]
    },
    {
     "data": {
      "text/plain": [
       "None"
      ]
     },
     "metadata": {},
     "output_type": "display_data"
    },
    {
     "name": "stdout",
     "output_type": "stream",
     "text": [
      "----------------------------------------\n",
      "Estadísticas descriptivas:\n"
     ]
    },
    {
     "data": {
      "text/html": [
       "<div>\n",
       "<style scoped>\n",
       "    .dataframe tbody tr th:only-of-type {\n",
       "        vertical-align: middle;\n",
       "    }\n",
       "\n",
       "    .dataframe tbody tr th {\n",
       "        vertical-align: top;\n",
       "    }\n",
       "\n",
       "    .dataframe thead th {\n",
       "        text-align: right;\n",
       "    }\n",
       "</style>\n",
       "<table border=\"1\" class=\"dataframe\">\n",
       "  <thead>\n",
       "    <tr style=\"text-align: right;\">\n",
       "      <th></th>\n",
       "      <th>count</th>\n",
       "      <th>mean</th>\n",
       "      <th>std</th>\n",
       "      <th>min</th>\n",
       "      <th>25%</th>\n",
       "      <th>50%</th>\n",
       "      <th>75%</th>\n",
       "      <th>max</th>\n",
       "    </tr>\n",
       "  </thead>\n",
       "  <tbody>\n",
       "    <tr>\n",
       "      <th>Flights Booked</th>\n",
       "      <td>16618.0</td>\n",
       "      <td>2.889578</td>\n",
       "      <td>4.115402</td>\n",
       "      <td>0.0</td>\n",
       "      <td>0.0</td>\n",
       "      <td>0.0</td>\n",
       "      <td>6.0</td>\n",
       "      <td>21.0</td>\n",
       "    </tr>\n",
       "  </tbody>\n",
       "</table>\n",
       "</div>"
      ],
      "text/plain": [
       "                  count      mean       std  min  25%  50%  75%   max\n",
       "Flights Booked  16618.0  2.889578  4.115402  0.0  0.0  0.0  6.0  21.0"
      ]
     },
     "metadata": {},
     "output_type": "display_data"
    },
    {
     "name": "stdout",
     "output_type": "stream",
     "text": [
      "----------------------------------------\n"
     ]
    },
    {
     "data": {
      "text/html": [
       "<div>\n",
       "<style scoped>\n",
       "    .dataframe tbody tr th:only-of-type {\n",
       "        vertical-align: middle;\n",
       "    }\n",
       "\n",
       "    .dataframe tbody tr th {\n",
       "        vertical-align: top;\n",
       "    }\n",
       "\n",
       "    .dataframe thead th {\n",
       "        text-align: right;\n",
       "    }\n",
       "</style>\n",
       "<table border=\"1\" class=\"dataframe\">\n",
       "  <thead>\n",
       "    <tr style=\"text-align: right;\">\n",
       "      <th>Education Group</th>\n",
       "      <th>Educación No Superior</th>\n",
       "      <th>Educación Superior</th>\n",
       "    </tr>\n",
       "  </thead>\n",
       "  <tbody>\n",
       "    <tr>\n",
       "      <th>count</th>\n",
       "      <td>4985.000000</td>\n",
       "      <td>11633.000000</td>\n",
       "    </tr>\n",
       "    <tr>\n",
       "      <th>mean</th>\n",
       "      <td>2.923571</td>\n",
       "      <td>2.875011</td>\n",
       "    </tr>\n",
       "    <tr>\n",
       "      <th>std</th>\n",
       "      <td>4.131319</td>\n",
       "      <td>4.108654</td>\n",
       "    </tr>\n",
       "    <tr>\n",
       "      <th>min</th>\n",
       "      <td>0.000000</td>\n",
       "      <td>0.000000</td>\n",
       "    </tr>\n",
       "    <tr>\n",
       "      <th>25%</th>\n",
       "      <td>0.000000</td>\n",
       "      <td>0.000000</td>\n",
       "    </tr>\n",
       "    <tr>\n",
       "      <th>50%</th>\n",
       "      <td>0.000000</td>\n",
       "      <td>0.000000</td>\n",
       "    </tr>\n",
       "    <tr>\n",
       "      <th>75%</th>\n",
       "      <td>6.000000</td>\n",
       "      <td>6.000000</td>\n",
       "    </tr>\n",
       "    <tr>\n",
       "      <th>max</th>\n",
       "      <td>21.000000</td>\n",
       "      <td>21.000000</td>\n",
       "    </tr>\n",
       "  </tbody>\n",
       "</table>\n",
       "</div>"
      ],
      "text/plain": [
       "Education Group  Educación No Superior  Educación Superior\n",
       "count                      4985.000000        11633.000000\n",
       "mean                          2.923571            2.875011\n",
       "std                           4.131319            4.108654\n",
       "min                           0.000000            0.000000\n",
       "25%                           0.000000            0.000000\n",
       "50%                           0.000000            0.000000\n",
       "75%                           6.000000            6.000000\n",
       "max                          21.000000           21.000000"
      ]
     },
     "metadata": {},
     "output_type": "display_data"
    },
    {
     "name": "stdout",
     "output_type": "stream",
     "text": [
      "----------------------------------------\n",
      "Valores nulos por columna:\n"
     ]
    },
    {
     "data": {
      "text/plain": [
       "Flights Booked     0\n",
       "Education Group    0\n",
       "dtype: int64"
      ]
     },
     "metadata": {},
     "output_type": "display_data"
    },
    {
     "name": "stdout",
     "output_type": "stream",
     "text": [
      "----------------------------------------\n",
      "Número de filas duplicadas:\n"
     ]
    },
    {
     "data": {
      "text/plain": [
       "np.int64(16574)"
      ]
     },
     "metadata": {},
     "output_type": "display_data"
    },
    {
     "name": "stdout",
     "output_type": "stream",
     "text": [
      "----------------------------------------\n",
      "Número de valores únicos por columna:\n"
     ]
    },
    {
     "data": {
      "text/plain": [
       "Flights Booked     22\n",
       "Education Group     2\n",
       "dtype: int64"
      ]
     },
     "metadata": {},
     "output_type": "display_data"
    },
    {
     "name": "stdout",
     "output_type": "stream",
     "text": [
      "----------------------------------------\n",
      "Variables categóricas:\n"
     ]
    },
    {
     "data": {
      "text/plain": [
       "Index(['Education Group'], dtype='object')"
      ]
     },
     "metadata": {},
     "output_type": "display_data"
    },
    {
     "name": "stdout",
     "output_type": "stream",
     "text": [
      "----------------------------------------\n",
      "Variables numéricas:\n"
     ]
    },
    {
     "data": {
      "text/plain": [
       "Index(['Flights Booked'], dtype='object')"
      ]
     },
     "metadata": {},
     "output_type": "display_data"
    },
    {
     "name": "stdout",
     "output_type": "stream",
     "text": [
      "----------------------------------------\n",
      "Shape del DataFrame:\n"
     ]
    },
    {
     "data": {
      "text/plain": [
       "(16618, 2)"
      ]
     },
     "metadata": {},
     "output_type": "display_data"
    }
   ],
   "source": [
    "\n",
    "\n",
    "# Nombre de columnas\n",
    "print(\"Columnas:\")\n",
    "display(df_filtrado.columns)\n",
    "print(\"----\"*10)\n",
    "\n",
    "# Primeras filas\n",
    "print(\"Primeras filas:\")\n",
    "display(df_filtrado.head(2))\n",
    "print(\"----\"*10)\n",
    "\n",
    "# Información general\n",
    "print(\"Información general:\")\n",
    "display(df_filtrado.info())\n",
    "print(\"----\"*10)\n",
    "\n",
    "# Estadísticas descriptivas\n",
    "print(\"Estadísticas descriptivas:\")\n",
    "display(df_filtrado.describe().T)\n",
    "print(\"----\"*10)\n",
    "\n",
    "#Estadisticas descritivas por agrupacion de educacion \n",
    "df_grupos = df_filtrado.groupby(\"Education Group\")[\"Flights Booked\"]\n",
    "display(df_grupos.describe().T)\n",
    "print(\"----\"*10)\n",
    "\n",
    "# Verificación de valores nulos\n",
    "print(\"Valores nulos por columna:\")\n",
    "display(df_filtrado.isnull().sum())\n",
    "print(\"----\"*10)\n",
    "\n",
    "# Verificación de valores duplicados\n",
    "print(\"Número de filas duplicadas:\")\n",
    "display(df_filtrado.duplicated().sum())\n",
    "print(\"----\"*10)\n",
    "\n",
    "# Conteo de valores únicos\n",
    "print(\"Número de valores únicos por columna:\")\n",
    "display(df_filtrado.nunique())\n",
    "print(\"----\"*10)\n",
    "\n",
    "# Diferenciación entre variables categóricas y numéricas\n",
    "print(\"Variables categóricas:\")\n",
    "display(df_filtrado.select_dtypes(include='object').columns)\n",
    "print(\"----\"*10)\n",
    "print(\"Variables numéricas:\")\n",
    "display(df_filtrado.select_dtypes(include=['int64', 'float64']).columns)\n",
    "print(\"----\"*10)\n",
    "\n",
    "# Dimensiones del DataFrame\n",
    "print(\"Shape del DataFrame:\")\n",
    "display(df_filtrado.shape)\n"
   ]
  },
  {
   "cell_type": "markdown",
   "metadata": {},
   "source": [
    "#Pruebas estadísticas"
   ]
  },
  {
   "cell_type": "code",
   "execution_count": 56,
   "metadata": {},
   "outputs": [
    {
     "name": "stdout",
     "output_type": "stream",
     "text": [
      "------------------------------------------------------------------------------------------\n",
      "NORMALIDAD\n",
      "Distribución no normal: 2.3804443742362194e-95\n",
      "------------------------------------------------------------------------------------------\n",
      "HOMOGENEIDAD DE VARIANZAS\n",
      "Para la Media, las varianzas no son homogéneas entre grupos.\n",
      "------------------------------------------------------------------------------------------\n",
      "MANN-WHITNEY\n",
      "Estadístico U de Mann-Whitney: 57990505.0\n",
      "Valor p: 0.0\n",
      "Hay diferencia significativa entre los grupos.\n"
     ]
    }
   ],
   "source": [
    "# Para comprobar si las distribuciones del número de vuelos reservados son normales \n",
    "# para cada grupo de educación,utilizaré la prueba de Shapiro\n",
    "# NORMALIDAD: \n",
    "print(\"---------\"*10)\n",
    "print(\"NORMALIDAD\")\n",
    "p_value = shapiro(df_filtrado['Flights Booked']).pvalue\n",
    "\n",
    "if p_value > 0.05:\n",
    "    print(\"Distribución normal:\" , p_value)\n",
    "else:\n",
    "    print(\"Distribución no normal:\" , p_value)\n",
    "\n",
    "\n",
    "#HOMOGENEIDAD DE VARIANZAS\n",
    "print(\"---------\"*10)\n",
    "print(\"HOMOGENEIDAD DE VARIANZAS\")\n",
    "\n",
    "# lo primero que tenemos que hacer es crear tantos conjuntos de datos para cada una de las \n",
    "# categorías que tenemos, Educación No Superior y Educación  Superior\n",
    "\n",
    "valores_evaluar = []\n",
    "media = df_filtrado['Flights Booked'].mean()\n",
    "df_filtrado['Media'] = media\n",
    "\n",
    "for valor in df_filtrado[\"Education Group\"].unique():\n",
    "    valores_evaluar.append(df_filtrado[df_filtrado[\"Education Group\"]== valor]['Media'])\n",
    "\n",
    "statistic, p_value = stats.levene(*valores_evaluar)\n",
    "if p_value > 0.05:\n",
    "    print(f\"Para la Media las varianzas son homogéneas entre grupos.\")\n",
    "else:\n",
    "    print(f\"Para la Media, las varianzas no son homogéneas entre grupos.\")\n",
    "\n",
    "# Como no se ajusta a una distribución normal tendremos que hacer la prueba de Mann-Whitney\n",
    "print(\"---------\"*10)\n",
    "print(\"MANN-WHITNEY\")\n",
    "media = df_no_superior['Flights Booked'].mean()\n",
    "df_no_superior['Media'] = media\n",
    "\n",
    "media = df_superior['Flights Booked'].mean()\n",
    "df_superior['Media'] = media\n",
    "\n",
    "statistic, p_value = mannwhitneyu(df_no_superior[\"Media\"], df_superior[\"Media\"], alternative=\"two-sided\")\n",
    "# Imprimimos los resultados\n",
    "print('Estadístico U de Mann-Whitney:',statistic)\n",
    "print('Valor p:',p_value)\n",
    "# Interpretamos los resultados\n",
    "if p_value > 0.05:\n",
    "    print('No hay diferencia significativa entre los grupos.')\n",
    "else:\n",
    "    print('Hay diferencia significativa entre los grupos.')\n",
    "\n"
   ]
  },
  {
   "cell_type": "markdown",
   "metadata": {},
   "source": [
    "La prueba de Mann-Whitney indica que el nivel educativo influye significativamente en el número de vuelos reservados cuando el valor p es menor que 0.05. "
   ]
  }
 ],
 "metadata": {
  "kernelspec": {
   "display_name": "promoI",
   "language": "python",
   "name": "python3"
  },
  "language_info": {
   "codemirror_mode": {
    "name": "ipython",
    "version": 3
   },
   "file_extension": ".py",
   "mimetype": "text/x-python",
   "name": "python",
   "nbconvert_exporter": "python",
   "pygments_lexer": "ipython3",
   "version": "3.9.19"
  }
 },
 "nbformat": 4,
 "nbformat_minor": 2
}
