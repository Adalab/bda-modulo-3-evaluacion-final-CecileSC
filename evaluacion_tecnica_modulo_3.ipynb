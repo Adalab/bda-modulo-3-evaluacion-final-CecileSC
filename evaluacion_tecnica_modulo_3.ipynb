{
 "cells": [
  {
   "cell_type": "code",
   "execution_count": 19,
   "metadata": {},
   "outputs": [],
   "source": [
    "#Carga de Librerías 📚\n",
    "\n",
    "# Tratamiento de datos\n",
    "# -----------------------------------------------------------------------\n",
    "import pandas as pd\n",
    "import numpy as np\n",
    "\n",
    "# Imputación de nulos usando métodos avanzados estadísticos\n",
    "# -----------------------------------------------------------------------\n",
    "from sklearn.impute import SimpleImputer\n",
    "from sklearn.experimental import enable_iterative_imputer\n",
    "from sklearn.impute import IterativeImputer\n",
    "from sklearn.impute import KNNImputer\n",
    "\n",
    "# Librerías de visualización\n",
    "# -----------------------------------------------------------------------\n",
    "import seaborn as sns\n",
    "import matplotlib.pyplot as plt\n",
    "# Configuración\n",
    "# -----------------------------------------------------------------------\n",
    "pd.set_option('display.max_columns', None) # para poder visualizar todas las columnas de los DataFrames"
   ]
  },
  {
   "cell_type": "code",
   "execution_count": 20,
   "metadata": {},
   "outputs": [],
   "source": [
    "\n",
    "def eda_flight(df_flight):\n",
    "   \n",
    "    # Cargar el archivo CSV como un DataFrame\n",
    "    df_flight = pd.read_csv(\"Customer Flight Activity.csv\")\n",
    "\n",
    "    # Nombre de columnas\n",
    "    print(\"Columnas:\")\n",
    "    display(df_flight.columns)\n",
    "    print(\"----\"*10)\n",
    "\n",
    "    # Primeras filas\n",
    "    print(\"Primeras filas:\")\n",
    "    display(df_flight.head(2))\n",
    "    print(\"----\"*10)\n",
    "\n",
    "    # Últimas filas\n",
    "    print(\"Últimas filas:\")\n",
    "    display(df_flight.tail(2))\n",
    "    print(\"----\"*10)\n",
    "\n",
    "    # Filas aleatorias\n",
    "    print(\"Filas aleatorias:\")\n",
    "    display(df_flight.sample())\n",
    "    print(\"----\"*10)\n",
    "\n",
    "    # Información general\n",
    "    print(\"Información general:\")\n",
    "    display(df_flight.info())\n",
    "    print(\"----\"*10)\n",
    "\n",
    "    # Estadísticas descriptivas\n",
    "    print(\"Estadísticas descriptivas:\")\n",
    "    display(df_flight.describe().T)\n",
    "    print(\"----\"*10)\n",
    "\n",
    "    # Verificación de valores nulos\n",
    "    print(\"Valores nulos por columna:\")\n",
    "    display(df_flight.isnull().sum())\n",
    "    print(\"----\"*10)\n",
    "\n",
    "    # Porcentaje de valores nulos\n",
    "    print(\"Porcentaje de valores nulos por columna:\")\n",
    "    display((df_flight.isnull().sum() / len(df_flight)) * 100)\n",
    "    print(\"----\"*10)\n",
    "\n",
    "    # Verificación de valores duplicados\n",
    "    print(\"Número de filas duplicadas:\")\n",
    "    display(df_flight.duplicated().sum())\n",
    "    print(\"----\"*10)\n",
    "\n",
    "    # Conteo de valores únicos\n",
    "    print(\"Número de valores únicos por columna:\")\n",
    "    display(df_flight.nunique())\n",
    "    print(\"----\"*10)\n",
    "\n",
    "    # Diferenciación entre variables categóricas y numéricas\n",
    "    print(\"Variables categóricas:\")\n",
    "    display(df_flight.select_dtypes(include='object').columns)\n",
    "    print(\"----\"*10)\n",
    "    print(\"Variables numéricas:\")\n",
    "    display(df_flight.select_dtypes(include=['int64', 'float64']).columns)\n",
    "    print(\"----\"*10)\n",
    "\n",
    "    # Dimensiones del DataFrame\n",
    "    print(\"Shape del DataFrame:\")\n",
    "    display(df_flight.shape)\n",
    "\n",
    "\n"
   ]
  },
  {
   "cell_type": "code",
   "execution_count": 21,
   "metadata": {},
   "outputs": [
    {
     "name": "stdout",
     "output_type": "stream",
     "text": [
      "Columnas:\n"
     ]
    },
    {
     "data": {
      "text/plain": [
       "Index(['Loyalty Number', 'Year', 'Month', 'Flights Booked',\n",
       "       'Flights with Companions', 'Total Flights', 'Distance',\n",
       "       'Points Accumulated', 'Points Redeemed', 'Dollar Cost Points Redeemed'],\n",
       "      dtype='object')"
      ]
     },
     "metadata": {},
     "output_type": "display_data"
    },
    {
     "name": "stdout",
     "output_type": "stream",
     "text": [
      "----------------------------------------\n",
      "Primeras filas:\n"
     ]
    },
    {
     "data": {
      "text/html": [
       "<div>\n",
       "<style scoped>\n",
       "    .dataframe tbody tr th:only-of-type {\n",
       "        vertical-align: middle;\n",
       "    }\n",
       "\n",
       "    .dataframe tbody tr th {\n",
       "        vertical-align: top;\n",
       "    }\n",
       "\n",
       "    .dataframe thead th {\n",
       "        text-align: right;\n",
       "    }\n",
       "</style>\n",
       "<table border=\"1\" class=\"dataframe\">\n",
       "  <thead>\n",
       "    <tr style=\"text-align: right;\">\n",
       "      <th></th>\n",
       "      <th>Loyalty Number</th>\n",
       "      <th>Year</th>\n",
       "      <th>Month</th>\n",
       "      <th>Flights Booked</th>\n",
       "      <th>Flights with Companions</th>\n",
       "      <th>Total Flights</th>\n",
       "      <th>Distance</th>\n",
       "      <th>Points Accumulated</th>\n",
       "      <th>Points Redeemed</th>\n",
       "      <th>Dollar Cost Points Redeemed</th>\n",
       "    </tr>\n",
       "  </thead>\n",
       "  <tbody>\n",
       "    <tr>\n",
       "      <th>0</th>\n",
       "      <td>100018</td>\n",
       "      <td>2017</td>\n",
       "      <td>1</td>\n",
       "      <td>3</td>\n",
       "      <td>0</td>\n",
       "      <td>3</td>\n",
       "      <td>1521</td>\n",
       "      <td>152.0</td>\n",
       "      <td>0</td>\n",
       "      <td>0</td>\n",
       "    </tr>\n",
       "    <tr>\n",
       "      <th>1</th>\n",
       "      <td>100102</td>\n",
       "      <td>2017</td>\n",
       "      <td>1</td>\n",
       "      <td>10</td>\n",
       "      <td>4</td>\n",
       "      <td>14</td>\n",
       "      <td>2030</td>\n",
       "      <td>203.0</td>\n",
       "      <td>0</td>\n",
       "      <td>0</td>\n",
       "    </tr>\n",
       "  </tbody>\n",
       "</table>\n",
       "</div>"
      ],
      "text/plain": [
       "   Loyalty Number  Year  Month  Flights Booked  Flights with Companions  \\\n",
       "0          100018  2017      1               3                        0   \n",
       "1          100102  2017      1              10                        4   \n",
       "\n",
       "   Total Flights  Distance  Points Accumulated  Points Redeemed  \\\n",
       "0              3      1521               152.0                0   \n",
       "1             14      2030               203.0                0   \n",
       "\n",
       "   Dollar Cost Points Redeemed  \n",
       "0                            0  \n",
       "1                            0  "
      ]
     },
     "metadata": {},
     "output_type": "display_data"
    },
    {
     "name": "stdout",
     "output_type": "stream",
     "text": [
      "----------------------------------------\n",
      "Últimas filas:\n"
     ]
    },
    {
     "data": {
      "text/html": [
       "<div>\n",
       "<style scoped>\n",
       "    .dataframe tbody tr th:only-of-type {\n",
       "        vertical-align: middle;\n",
       "    }\n",
       "\n",
       "    .dataframe tbody tr th {\n",
       "        vertical-align: top;\n",
       "    }\n",
       "\n",
       "    .dataframe thead th {\n",
       "        text-align: right;\n",
       "    }\n",
       "</style>\n",
       "<table border=\"1\" class=\"dataframe\">\n",
       "  <thead>\n",
       "    <tr style=\"text-align: right;\">\n",
       "      <th></th>\n",
       "      <th>Loyalty Number</th>\n",
       "      <th>Year</th>\n",
       "      <th>Month</th>\n",
       "      <th>Flights Booked</th>\n",
       "      <th>Flights with Companions</th>\n",
       "      <th>Total Flights</th>\n",
       "      <th>Distance</th>\n",
       "      <th>Points Accumulated</th>\n",
       "      <th>Points Redeemed</th>\n",
       "      <th>Dollar Cost Points Redeemed</th>\n",
       "    </tr>\n",
       "  </thead>\n",
       "  <tbody>\n",
       "    <tr>\n",
       "      <th>405622</th>\n",
       "      <td>999982</td>\n",
       "      <td>2018</td>\n",
       "      <td>12</td>\n",
       "      <td>0</td>\n",
       "      <td>0</td>\n",
       "      <td>0</td>\n",
       "      <td>0</td>\n",
       "      <td>0.0</td>\n",
       "      <td>0</td>\n",
       "      <td>0</td>\n",
       "    </tr>\n",
       "    <tr>\n",
       "      <th>405623</th>\n",
       "      <td>999986</td>\n",
       "      <td>2018</td>\n",
       "      <td>12</td>\n",
       "      <td>0</td>\n",
       "      <td>0</td>\n",
       "      <td>0</td>\n",
       "      <td>0</td>\n",
       "      <td>0.0</td>\n",
       "      <td>0</td>\n",
       "      <td>0</td>\n",
       "    </tr>\n",
       "  </tbody>\n",
       "</table>\n",
       "</div>"
      ],
      "text/plain": [
       "        Loyalty Number  Year  Month  Flights Booked  Flights with Companions  \\\n",
       "405622          999982  2018     12               0                        0   \n",
       "405623          999986  2018     12               0                        0   \n",
       "\n",
       "        Total Flights  Distance  Points Accumulated  Points Redeemed  \\\n",
       "405622              0         0                 0.0                0   \n",
       "405623              0         0                 0.0                0   \n",
       "\n",
       "        Dollar Cost Points Redeemed  \n",
       "405622                            0  \n",
       "405623                            0  "
      ]
     },
     "metadata": {},
     "output_type": "display_data"
    },
    {
     "name": "stdout",
     "output_type": "stream",
     "text": [
      "----------------------------------------\n",
      "Filas aleatorias:\n"
     ]
    },
    {
     "data": {
      "text/html": [
       "<div>\n",
       "<style scoped>\n",
       "    .dataframe tbody tr th:only-of-type {\n",
       "        vertical-align: middle;\n",
       "    }\n",
       "\n",
       "    .dataframe tbody tr th {\n",
       "        vertical-align: top;\n",
       "    }\n",
       "\n",
       "    .dataframe thead th {\n",
       "        text-align: right;\n",
       "    }\n",
       "</style>\n",
       "<table border=\"1\" class=\"dataframe\">\n",
       "  <thead>\n",
       "    <tr style=\"text-align: right;\">\n",
       "      <th></th>\n",
       "      <th>Loyalty Number</th>\n",
       "      <th>Year</th>\n",
       "      <th>Month</th>\n",
       "      <th>Flights Booked</th>\n",
       "      <th>Flights with Companions</th>\n",
       "      <th>Total Flights</th>\n",
       "      <th>Distance</th>\n",
       "      <th>Points Accumulated</th>\n",
       "      <th>Points Redeemed</th>\n",
       "      <th>Dollar Cost Points Redeemed</th>\n",
       "    </tr>\n",
       "  </thead>\n",
       "  <tbody>\n",
       "    <tr>\n",
       "      <th>270991</th>\n",
       "      <td>130823</td>\n",
       "      <td>2018</td>\n",
       "      <td>5</td>\n",
       "      <td>11</td>\n",
       "      <td>0</td>\n",
       "      <td>11</td>\n",
       "      <td>1573</td>\n",
       "      <td>157.0</td>\n",
       "      <td>0</td>\n",
       "      <td>0</td>\n",
       "    </tr>\n",
       "  </tbody>\n",
       "</table>\n",
       "</div>"
      ],
      "text/plain": [
       "        Loyalty Number  Year  Month  Flights Booked  Flights with Companions  \\\n",
       "270991          130823  2018      5              11                        0   \n",
       "\n",
       "        Total Flights  Distance  Points Accumulated  Points Redeemed  \\\n",
       "270991             11      1573               157.0                0   \n",
       "\n",
       "        Dollar Cost Points Redeemed  \n",
       "270991                            0  "
      ]
     },
     "metadata": {},
     "output_type": "display_data"
    },
    {
     "name": "stdout",
     "output_type": "stream",
     "text": [
      "----------------------------------------\n",
      "Información general:\n",
      "<class 'pandas.core.frame.DataFrame'>\n",
      "RangeIndex: 405624 entries, 0 to 405623\n",
      "Data columns (total 10 columns):\n",
      " #   Column                       Non-Null Count   Dtype  \n",
      "---  ------                       --------------   -----  \n",
      " 0   Loyalty Number               405624 non-null  int64  \n",
      " 1   Year                         405624 non-null  int64  \n",
      " 2   Month                        405624 non-null  int64  \n",
      " 3   Flights Booked               405624 non-null  int64  \n",
      " 4   Flights with Companions      405624 non-null  int64  \n",
      " 5   Total Flights                405624 non-null  int64  \n",
      " 6   Distance                     405624 non-null  int64  \n",
      " 7   Points Accumulated           405624 non-null  float64\n",
      " 8   Points Redeemed              405624 non-null  int64  \n",
      " 9   Dollar Cost Points Redeemed  405624 non-null  int64  \n",
      "dtypes: float64(1), int64(9)\n",
      "memory usage: 30.9 MB\n"
     ]
    },
    {
     "data": {
      "text/plain": [
       "None"
      ]
     },
     "metadata": {},
     "output_type": "display_data"
    },
    {
     "name": "stdout",
     "output_type": "stream",
     "text": [
      "----------------------------------------\n",
      "Estadísticas descriptivas:\n"
     ]
    },
    {
     "data": {
      "text/html": [
       "<div>\n",
       "<style scoped>\n",
       "    .dataframe tbody tr th:only-of-type {\n",
       "        vertical-align: middle;\n",
       "    }\n",
       "\n",
       "    .dataframe tbody tr th {\n",
       "        vertical-align: top;\n",
       "    }\n",
       "\n",
       "    .dataframe thead th {\n",
       "        text-align: right;\n",
       "    }\n",
       "</style>\n",
       "<table border=\"1\" class=\"dataframe\">\n",
       "  <thead>\n",
       "    <tr style=\"text-align: right;\">\n",
       "      <th></th>\n",
       "      <th>count</th>\n",
       "      <th>mean</th>\n",
       "      <th>std</th>\n",
       "      <th>min</th>\n",
       "      <th>25%</th>\n",
       "      <th>50%</th>\n",
       "      <th>75%</th>\n",
       "      <th>max</th>\n",
       "    </tr>\n",
       "  </thead>\n",
       "  <tbody>\n",
       "    <tr>\n",
       "      <th>Loyalty Number</th>\n",
       "      <td>405624.0</td>\n",
       "      <td>550037.873084</td>\n",
       "      <td>258935.286969</td>\n",
       "      <td>100018.0</td>\n",
       "      <td>326961.00</td>\n",
       "      <td>550834.0</td>\n",
       "      <td>772194.00</td>\n",
       "      <td>999986.0</td>\n",
       "    </tr>\n",
       "    <tr>\n",
       "      <th>Year</th>\n",
       "      <td>405624.0</td>\n",
       "      <td>2017.500000</td>\n",
       "      <td>0.500001</td>\n",
       "      <td>2017.0</td>\n",
       "      <td>2017.00</td>\n",
       "      <td>2017.5</td>\n",
       "      <td>2018.00</td>\n",
       "      <td>2018.0</td>\n",
       "    </tr>\n",
       "    <tr>\n",
       "      <th>Month</th>\n",
       "      <td>405624.0</td>\n",
       "      <td>6.500000</td>\n",
       "      <td>3.452057</td>\n",
       "      <td>1.0</td>\n",
       "      <td>3.75</td>\n",
       "      <td>6.5</td>\n",
       "      <td>9.25</td>\n",
       "      <td>12.0</td>\n",
       "    </tr>\n",
       "    <tr>\n",
       "      <th>Flights Booked</th>\n",
       "      <td>405624.0</td>\n",
       "      <td>4.115052</td>\n",
       "      <td>5.225518</td>\n",
       "      <td>0.0</td>\n",
       "      <td>0.00</td>\n",
       "      <td>1.0</td>\n",
       "      <td>8.00</td>\n",
       "      <td>21.0</td>\n",
       "    </tr>\n",
       "    <tr>\n",
       "      <th>Flights with Companions</th>\n",
       "      <td>405624.0</td>\n",
       "      <td>1.031805</td>\n",
       "      <td>2.076869</td>\n",
       "      <td>0.0</td>\n",
       "      <td>0.00</td>\n",
       "      <td>0.0</td>\n",
       "      <td>1.00</td>\n",
       "      <td>11.0</td>\n",
       "    </tr>\n",
       "    <tr>\n",
       "      <th>Total Flights</th>\n",
       "      <td>405624.0</td>\n",
       "      <td>5.146858</td>\n",
       "      <td>6.521227</td>\n",
       "      <td>0.0</td>\n",
       "      <td>0.00</td>\n",
       "      <td>1.0</td>\n",
       "      <td>10.00</td>\n",
       "      <td>32.0</td>\n",
       "    </tr>\n",
       "    <tr>\n",
       "      <th>Distance</th>\n",
       "      <td>405624.0</td>\n",
       "      <td>1208.880059</td>\n",
       "      <td>1433.155320</td>\n",
       "      <td>0.0</td>\n",
       "      <td>0.00</td>\n",
       "      <td>488.0</td>\n",
       "      <td>2336.00</td>\n",
       "      <td>6293.0</td>\n",
       "    </tr>\n",
       "    <tr>\n",
       "      <th>Points Accumulated</th>\n",
       "      <td>405624.0</td>\n",
       "      <td>123.692721</td>\n",
       "      <td>146.599831</td>\n",
       "      <td>0.0</td>\n",
       "      <td>0.00</td>\n",
       "      <td>50.0</td>\n",
       "      <td>239.00</td>\n",
       "      <td>676.5</td>\n",
       "    </tr>\n",
       "    <tr>\n",
       "      <th>Points Redeemed</th>\n",
       "      <td>405624.0</td>\n",
       "      <td>30.696872</td>\n",
       "      <td>125.486049</td>\n",
       "      <td>0.0</td>\n",
       "      <td>0.00</td>\n",
       "      <td>0.0</td>\n",
       "      <td>0.00</td>\n",
       "      <td>876.0</td>\n",
       "    </tr>\n",
       "    <tr>\n",
       "      <th>Dollar Cost Points Redeemed</th>\n",
       "      <td>405624.0</td>\n",
       "      <td>2.484503</td>\n",
       "      <td>10.150038</td>\n",
       "      <td>0.0</td>\n",
       "      <td>0.00</td>\n",
       "      <td>0.0</td>\n",
       "      <td>0.00</td>\n",
       "      <td>71.0</td>\n",
       "    </tr>\n",
       "  </tbody>\n",
       "</table>\n",
       "</div>"
      ],
      "text/plain": [
       "                                count           mean            std       min  \\\n",
       "Loyalty Number               405624.0  550037.873084  258935.286969  100018.0   \n",
       "Year                         405624.0    2017.500000       0.500001    2017.0   \n",
       "Month                        405624.0       6.500000       3.452057       1.0   \n",
       "Flights Booked               405624.0       4.115052       5.225518       0.0   \n",
       "Flights with Companions      405624.0       1.031805       2.076869       0.0   \n",
       "Total Flights                405624.0       5.146858       6.521227       0.0   \n",
       "Distance                     405624.0    1208.880059    1433.155320       0.0   \n",
       "Points Accumulated           405624.0     123.692721     146.599831       0.0   \n",
       "Points Redeemed              405624.0      30.696872     125.486049       0.0   \n",
       "Dollar Cost Points Redeemed  405624.0       2.484503      10.150038       0.0   \n",
       "\n",
       "                                   25%       50%        75%       max  \n",
       "Loyalty Number               326961.00  550834.0  772194.00  999986.0  \n",
       "Year                           2017.00    2017.5    2018.00    2018.0  \n",
       "Month                             3.75       6.5       9.25      12.0  \n",
       "Flights Booked                    0.00       1.0       8.00      21.0  \n",
       "Flights with Companions           0.00       0.0       1.00      11.0  \n",
       "Total Flights                     0.00       1.0      10.00      32.0  \n",
       "Distance                          0.00     488.0    2336.00    6293.0  \n",
       "Points Accumulated                0.00      50.0     239.00     676.5  \n",
       "Points Redeemed                   0.00       0.0       0.00     876.0  \n",
       "Dollar Cost Points Redeemed       0.00       0.0       0.00      71.0  "
      ]
     },
     "metadata": {},
     "output_type": "display_data"
    },
    {
     "name": "stdout",
     "output_type": "stream",
     "text": [
      "----------------------------------------\n",
      "Valores nulos por columna:\n"
     ]
    },
    {
     "data": {
      "text/plain": [
       "Loyalty Number                 0\n",
       "Year                           0\n",
       "Month                          0\n",
       "Flights Booked                 0\n",
       "Flights with Companions        0\n",
       "Total Flights                  0\n",
       "Distance                       0\n",
       "Points Accumulated             0\n",
       "Points Redeemed                0\n",
       "Dollar Cost Points Redeemed    0\n",
       "dtype: int64"
      ]
     },
     "metadata": {},
     "output_type": "display_data"
    },
    {
     "name": "stdout",
     "output_type": "stream",
     "text": [
      "----------------------------------------\n",
      "Porcentaje de valores nulos por columna:\n"
     ]
    },
    {
     "data": {
      "text/plain": [
       "Loyalty Number                 0.0\n",
       "Year                           0.0\n",
       "Month                          0.0\n",
       "Flights Booked                 0.0\n",
       "Flights with Companions        0.0\n",
       "Total Flights                  0.0\n",
       "Distance                       0.0\n",
       "Points Accumulated             0.0\n",
       "Points Redeemed                0.0\n",
       "Dollar Cost Points Redeemed    0.0\n",
       "dtype: float64"
      ]
     },
     "metadata": {},
     "output_type": "display_data"
    },
    {
     "name": "stdout",
     "output_type": "stream",
     "text": [
      "----------------------------------------\n",
      "Número de filas duplicadas:\n"
     ]
    },
    {
     "data": {
      "text/plain": [
       "np.int64(1864)"
      ]
     },
     "metadata": {},
     "output_type": "display_data"
    },
    {
     "name": "stdout",
     "output_type": "stream",
     "text": [
      "----------------------------------------\n",
      "Número de valores únicos por columna:\n"
     ]
    },
    {
     "data": {
      "text/plain": [
       "Loyalty Number                 16737\n",
       "Year                               2\n",
       "Month                             12\n",
       "Flights Booked                    22\n",
       "Flights with Companions           12\n",
       "Total Flights                     33\n",
       "Distance                        4746\n",
       "Points Accumulated              1549\n",
       "Points Redeemed                  587\n",
       "Dollar Cost Points Redeemed       49\n",
       "dtype: int64"
      ]
     },
     "metadata": {},
     "output_type": "display_data"
    },
    {
     "name": "stdout",
     "output_type": "stream",
     "text": [
      "----------------------------------------\n",
      "Variables categóricas:\n"
     ]
    },
    {
     "data": {
      "text/plain": [
       "Index([], dtype='object')"
      ]
     },
     "metadata": {},
     "output_type": "display_data"
    },
    {
     "name": "stdout",
     "output_type": "stream",
     "text": [
      "----------------------------------------\n",
      "Variables numéricas:\n"
     ]
    },
    {
     "data": {
      "text/plain": [
       "Index(['Loyalty Number', 'Year', 'Month', 'Flights Booked',\n",
       "       'Flights with Companions', 'Total Flights', 'Distance',\n",
       "       'Points Accumulated', 'Points Redeemed', 'Dollar Cost Points Redeemed'],\n",
       "      dtype='object')"
      ]
     },
     "metadata": {},
     "output_type": "display_data"
    },
    {
     "name": "stdout",
     "output_type": "stream",
     "text": [
      "----------------------------------------\n",
      "Shape del DataFrame:\n"
     ]
    },
    {
     "data": {
      "text/plain": [
       "(405624, 10)"
      ]
     },
     "metadata": {},
     "output_type": "display_data"
    }
   ],
   "source": [
    "#Main\n",
    "archivo = \"Customer Flight Activity.csv\"\n",
    "df_flight = eda_flight(archivo)"
   ]
  },
  {
   "cell_type": "code",
   "execution_count": 22,
   "metadata": {},
   "outputs": [],
   "source": [
    "\n",
    "def eda_customers(df_customer):\n",
    "   \n",
    "    # Cargar el archivo CSV como un DataFrame\n",
    "    df_customer = pd.read_csv(\"Customer Loyalty History.csv\")\n",
    "\n",
    "    # Nombre de columnas\n",
    "    print(\"Columnas:\")\n",
    "    display(df_customer.columns)\n",
    "    print(\"----\"*10)\n",
    "\n",
    "    # Primeras filas\n",
    "    print(\"Primeras filas:\")\n",
    "    display(df_customer.head(2))\n",
    "    print(\"----\"*10)\n",
    "\n",
    "    # Últimas filas\n",
    "    print(\"Últimas filas:\")\n",
    "    display(df_customer.tail(2))\n",
    "    print(\"----\"*10)\n",
    "\n",
    "    # Filas aleatorias\n",
    "    print(\"Filas aleatorias:\")\n",
    "    display(df_customer.sample())\n",
    "    print(\"----\"*10)\n",
    "\n",
    "    # Información general\n",
    "    print(\"Información general:\")\n",
    "    display(df_customer.info())\n",
    "    print(\"----\"*10)\n",
    "\n",
    "    # Estadísticas descriptivas\n",
    "    print(\"Estadísticas descriptivas:\")\n",
    "    display(df_customer.describe().T)\n",
    "    print(\"----\"*10)\n",
    "\n",
    "    # Verificación de valores nulos\n",
    "    print(\"Valores nulos por columna:\")\n",
    "    display(df_customer.isnull().sum())\n",
    "    print(\"----\"*10)\n",
    "\n",
    "    # Porcentaje de valores nulos\n",
    "    print(\"Porcentaje de valores nulos por columna:\")\n",
    "    display(round(df_customer.isnull().sum() / len(df_customer)) * 100)\n",
    "    print(\"----\"*10)\n",
    "\n",
    "    # Verificación de valores duplicados\n",
    "    print(\"Número de filas duplicadas:\")\n",
    "    display(df_customer.duplicated().sum())\n",
    "    print(\"----\"*10)\n",
    "\n",
    "    # Conteo de valores únicos\n",
    "    print(\"Número de valores únicos por columna:\")\n",
    "    display(df_customer.nunique())\n",
    "    print(\"----\"*10)\n",
    "\n",
    "    # Diferenciación entre variables categóricas y numéricas\n",
    "    print(\"Variables categóricas:\")\n",
    "    display(df_customer.select_dtypes(include='object').columns)\n",
    "    print(\"----\"*10)\n",
    "    print(\"Variables numéricas:\")\n",
    "    display(df_customer.select_dtypes(include=['int64', 'float64']).columns)\n",
    "    print(\"----\"*10)\n",
    "\n",
    "    # Dimensiones del DataFrame\n",
    "    print(\"Shape del DataFrame:\")\n",
    "    display(df_customer.shape)\n",
    "\n",
    "\n"
   ]
  },
  {
   "cell_type": "code",
   "execution_count": 23,
   "metadata": {},
   "outputs": [
    {
     "name": "stdout",
     "output_type": "stream",
     "text": [
      "Columnas:\n"
     ]
    },
    {
     "data": {
      "text/plain": [
       "Index(['Loyalty Number', 'Country', 'Province', 'City', 'Postal Code',\n",
       "       'Gender', 'Education', 'Salary', 'Marital Status', 'Loyalty Card',\n",
       "       'CLV', 'Enrollment Type', 'Enrollment Year', 'Enrollment Month',\n",
       "       'Cancellation Year', 'Cancellation Month'],\n",
       "      dtype='object')"
      ]
     },
     "metadata": {},
     "output_type": "display_data"
    },
    {
     "name": "stdout",
     "output_type": "stream",
     "text": [
      "----------------------------------------\n",
      "Primeras filas:\n"
     ]
    },
    {
     "data": {
      "text/html": [
       "<div>\n",
       "<style scoped>\n",
       "    .dataframe tbody tr th:only-of-type {\n",
       "        vertical-align: middle;\n",
       "    }\n",
       "\n",
       "    .dataframe tbody tr th {\n",
       "        vertical-align: top;\n",
       "    }\n",
       "\n",
       "    .dataframe thead th {\n",
       "        text-align: right;\n",
       "    }\n",
       "</style>\n",
       "<table border=\"1\" class=\"dataframe\">\n",
       "  <thead>\n",
       "    <tr style=\"text-align: right;\">\n",
       "      <th></th>\n",
       "      <th>Loyalty Number</th>\n",
       "      <th>Country</th>\n",
       "      <th>Province</th>\n",
       "      <th>City</th>\n",
       "      <th>Postal Code</th>\n",
       "      <th>Gender</th>\n",
       "      <th>Education</th>\n",
       "      <th>Salary</th>\n",
       "      <th>Marital Status</th>\n",
       "      <th>Loyalty Card</th>\n",
       "      <th>CLV</th>\n",
       "      <th>Enrollment Type</th>\n",
       "      <th>Enrollment Year</th>\n",
       "      <th>Enrollment Month</th>\n",
       "      <th>Cancellation Year</th>\n",
       "      <th>Cancellation Month</th>\n",
       "    </tr>\n",
       "  </thead>\n",
       "  <tbody>\n",
       "    <tr>\n",
       "      <th>0</th>\n",
       "      <td>480934</td>\n",
       "      <td>Canada</td>\n",
       "      <td>Ontario</td>\n",
       "      <td>Toronto</td>\n",
       "      <td>M2Z 4K1</td>\n",
       "      <td>Female</td>\n",
       "      <td>Bachelor</td>\n",
       "      <td>83236.0</td>\n",
       "      <td>Married</td>\n",
       "      <td>Star</td>\n",
       "      <td>3839.14</td>\n",
       "      <td>Standard</td>\n",
       "      <td>2016</td>\n",
       "      <td>2</td>\n",
       "      <td>NaN</td>\n",
       "      <td>NaN</td>\n",
       "    </tr>\n",
       "    <tr>\n",
       "      <th>1</th>\n",
       "      <td>549612</td>\n",
       "      <td>Canada</td>\n",
       "      <td>Alberta</td>\n",
       "      <td>Edmonton</td>\n",
       "      <td>T3G 6Y6</td>\n",
       "      <td>Male</td>\n",
       "      <td>College</td>\n",
       "      <td>NaN</td>\n",
       "      <td>Divorced</td>\n",
       "      <td>Star</td>\n",
       "      <td>3839.61</td>\n",
       "      <td>Standard</td>\n",
       "      <td>2016</td>\n",
       "      <td>3</td>\n",
       "      <td>NaN</td>\n",
       "      <td>NaN</td>\n",
       "    </tr>\n",
       "  </tbody>\n",
       "</table>\n",
       "</div>"
      ],
      "text/plain": [
       "   Loyalty Number Country Province      City Postal Code  Gender Education  \\\n",
       "0          480934  Canada  Ontario   Toronto     M2Z 4K1  Female  Bachelor   \n",
       "1          549612  Canada  Alberta  Edmonton     T3G 6Y6    Male   College   \n",
       "\n",
       "    Salary Marital Status Loyalty Card      CLV Enrollment Type  \\\n",
       "0  83236.0        Married         Star  3839.14        Standard   \n",
       "1      NaN       Divorced         Star  3839.61        Standard   \n",
       "\n",
       "   Enrollment Year  Enrollment Month  Cancellation Year  Cancellation Month  \n",
       "0             2016                 2                NaN                 NaN  \n",
       "1             2016                 3                NaN                 NaN  "
      ]
     },
     "metadata": {},
     "output_type": "display_data"
    },
    {
     "name": "stdout",
     "output_type": "stream",
     "text": [
      "----------------------------------------\n",
      "Últimas filas:\n"
     ]
    },
    {
     "data": {
      "text/html": [
       "<div>\n",
       "<style scoped>\n",
       "    .dataframe tbody tr th:only-of-type {\n",
       "        vertical-align: middle;\n",
       "    }\n",
       "\n",
       "    .dataframe tbody tr th {\n",
       "        vertical-align: top;\n",
       "    }\n",
       "\n",
       "    .dataframe thead th {\n",
       "        text-align: right;\n",
       "    }\n",
       "</style>\n",
       "<table border=\"1\" class=\"dataframe\">\n",
       "  <thead>\n",
       "    <tr style=\"text-align: right;\">\n",
       "      <th></th>\n",
       "      <th>Loyalty Number</th>\n",
       "      <th>Country</th>\n",
       "      <th>Province</th>\n",
       "      <th>City</th>\n",
       "      <th>Postal Code</th>\n",
       "      <th>Gender</th>\n",
       "      <th>Education</th>\n",
       "      <th>Salary</th>\n",
       "      <th>Marital Status</th>\n",
       "      <th>Loyalty Card</th>\n",
       "      <th>CLV</th>\n",
       "      <th>Enrollment Type</th>\n",
       "      <th>Enrollment Year</th>\n",
       "      <th>Enrollment Month</th>\n",
       "      <th>Cancellation Year</th>\n",
       "      <th>Cancellation Month</th>\n",
       "    </tr>\n",
       "  </thead>\n",
       "  <tbody>\n",
       "    <tr>\n",
       "      <th>16735</th>\n",
       "      <td>906428</td>\n",
       "      <td>Canada</td>\n",
       "      <td>Yukon</td>\n",
       "      <td>Whitehorse</td>\n",
       "      <td>Y2K 6R0</td>\n",
       "      <td>Male</td>\n",
       "      <td>Bachelor</td>\n",
       "      <td>-57297.0</td>\n",
       "      <td>Married</td>\n",
       "      <td>Star</td>\n",
       "      <td>10018.66</td>\n",
       "      <td>2018 Promotion</td>\n",
       "      <td>2018</td>\n",
       "      <td>4</td>\n",
       "      <td>NaN</td>\n",
       "      <td>NaN</td>\n",
       "    </tr>\n",
       "    <tr>\n",
       "      <th>16736</th>\n",
       "      <td>652627</td>\n",
       "      <td>Canada</td>\n",
       "      <td>Manitoba</td>\n",
       "      <td>Winnipeg</td>\n",
       "      <td>R2C 0M5</td>\n",
       "      <td>Female</td>\n",
       "      <td>Bachelor</td>\n",
       "      <td>75049.0</td>\n",
       "      <td>Married</td>\n",
       "      <td>Star</td>\n",
       "      <td>83325.38</td>\n",
       "      <td>Standard</td>\n",
       "      <td>2015</td>\n",
       "      <td>12</td>\n",
       "      <td>2016.0</td>\n",
       "      <td>8.0</td>\n",
       "    </tr>\n",
       "  </tbody>\n",
       "</table>\n",
       "</div>"
      ],
      "text/plain": [
       "       Loyalty Number Country  Province        City Postal Code  Gender  \\\n",
       "16735          906428  Canada     Yukon  Whitehorse     Y2K 6R0    Male   \n",
       "16736          652627  Canada  Manitoba    Winnipeg     R2C 0M5  Female   \n",
       "\n",
       "      Education   Salary Marital Status Loyalty Card       CLV  \\\n",
       "16735  Bachelor -57297.0        Married         Star  10018.66   \n",
       "16736  Bachelor  75049.0        Married         Star  83325.38   \n",
       "\n",
       "      Enrollment Type  Enrollment Year  Enrollment Month  Cancellation Year  \\\n",
       "16735  2018 Promotion             2018                 4                NaN   \n",
       "16736        Standard             2015                12             2016.0   \n",
       "\n",
       "       Cancellation Month  \n",
       "16735                 NaN  \n",
       "16736                 8.0  "
      ]
     },
     "metadata": {},
     "output_type": "display_data"
    },
    {
     "name": "stdout",
     "output_type": "stream",
     "text": [
      "----------------------------------------\n",
      "Filas aleatorias:\n"
     ]
    },
    {
     "data": {
      "text/html": [
       "<div>\n",
       "<style scoped>\n",
       "    .dataframe tbody tr th:only-of-type {\n",
       "        vertical-align: middle;\n",
       "    }\n",
       "\n",
       "    .dataframe tbody tr th {\n",
       "        vertical-align: top;\n",
       "    }\n",
       "\n",
       "    .dataframe thead th {\n",
       "        text-align: right;\n",
       "    }\n",
       "</style>\n",
       "<table border=\"1\" class=\"dataframe\">\n",
       "  <thead>\n",
       "    <tr style=\"text-align: right;\">\n",
       "      <th></th>\n",
       "      <th>Loyalty Number</th>\n",
       "      <th>Country</th>\n",
       "      <th>Province</th>\n",
       "      <th>City</th>\n",
       "      <th>Postal Code</th>\n",
       "      <th>Gender</th>\n",
       "      <th>Education</th>\n",
       "      <th>Salary</th>\n",
       "      <th>Marital Status</th>\n",
       "      <th>Loyalty Card</th>\n",
       "      <th>CLV</th>\n",
       "      <th>Enrollment Type</th>\n",
       "      <th>Enrollment Year</th>\n",
       "      <th>Enrollment Month</th>\n",
       "      <th>Cancellation Year</th>\n",
       "      <th>Cancellation Month</th>\n",
       "    </tr>\n",
       "  </thead>\n",
       "  <tbody>\n",
       "    <tr>\n",
       "      <th>15490</th>\n",
       "      <td>910056</td>\n",
       "      <td>Canada</td>\n",
       "      <td>Yukon</td>\n",
       "      <td>Whitehorse</td>\n",
       "      <td>Y2K 6R0</td>\n",
       "      <td>Female</td>\n",
       "      <td>Bachelor</td>\n",
       "      <td>57458.0</td>\n",
       "      <td>Single</td>\n",
       "      <td>Star</td>\n",
       "      <td>9547.71</td>\n",
       "      <td>Standard</td>\n",
       "      <td>2014</td>\n",
       "      <td>11</td>\n",
       "      <td>NaN</td>\n",
       "      <td>NaN</td>\n",
       "    </tr>\n",
       "  </tbody>\n",
       "</table>\n",
       "</div>"
      ],
      "text/plain": [
       "       Loyalty Number Country Province        City Postal Code  Gender  \\\n",
       "15490          910056  Canada    Yukon  Whitehorse     Y2K 6R0  Female   \n",
       "\n",
       "      Education   Salary Marital Status Loyalty Card      CLV Enrollment Type  \\\n",
       "15490  Bachelor  57458.0         Single         Star  9547.71        Standard   \n",
       "\n",
       "       Enrollment Year  Enrollment Month  Cancellation Year  \\\n",
       "15490             2014                11                NaN   \n",
       "\n",
       "       Cancellation Month  \n",
       "15490                 NaN  "
      ]
     },
     "metadata": {},
     "output_type": "display_data"
    },
    {
     "name": "stdout",
     "output_type": "stream",
     "text": [
      "----------------------------------------\n",
      "Información general:\n",
      "<class 'pandas.core.frame.DataFrame'>\n",
      "RangeIndex: 16737 entries, 0 to 16736\n",
      "Data columns (total 16 columns):\n",
      " #   Column              Non-Null Count  Dtype  \n",
      "---  ------              --------------  -----  \n",
      " 0   Loyalty Number      16737 non-null  int64  \n",
      " 1   Country             16737 non-null  object \n",
      " 2   Province            16737 non-null  object \n",
      " 3   City                16737 non-null  object \n",
      " 4   Postal Code         16737 non-null  object \n",
      " 5   Gender              16737 non-null  object \n",
      " 6   Education           16737 non-null  object \n",
      " 7   Salary              12499 non-null  float64\n",
      " 8   Marital Status      16737 non-null  object \n",
      " 9   Loyalty Card        16737 non-null  object \n",
      " 10  CLV                 16737 non-null  float64\n",
      " 11  Enrollment Type     16737 non-null  object \n",
      " 12  Enrollment Year     16737 non-null  int64  \n",
      " 13  Enrollment Month    16737 non-null  int64  \n",
      " 14  Cancellation Year   2067 non-null   float64\n",
      " 15  Cancellation Month  2067 non-null   float64\n",
      "dtypes: float64(4), int64(3), object(9)\n",
      "memory usage: 2.0+ MB\n"
     ]
    },
    {
     "data": {
      "text/plain": [
       "None"
      ]
     },
     "metadata": {},
     "output_type": "display_data"
    },
    {
     "name": "stdout",
     "output_type": "stream",
     "text": [
      "----------------------------------------\n",
      "Estadísticas descriptivas:\n"
     ]
    },
    {
     "data": {
      "text/html": [
       "<div>\n",
       "<style scoped>\n",
       "    .dataframe tbody tr th:only-of-type {\n",
       "        vertical-align: middle;\n",
       "    }\n",
       "\n",
       "    .dataframe tbody tr th {\n",
       "        vertical-align: top;\n",
       "    }\n",
       "\n",
       "    .dataframe thead th {\n",
       "        text-align: right;\n",
       "    }\n",
       "</style>\n",
       "<table border=\"1\" class=\"dataframe\">\n",
       "  <thead>\n",
       "    <tr style=\"text-align: right;\">\n",
       "      <th></th>\n",
       "      <th>count</th>\n",
       "      <th>mean</th>\n",
       "      <th>std</th>\n",
       "      <th>min</th>\n",
       "      <th>25%</th>\n",
       "      <th>50%</th>\n",
       "      <th>75%</th>\n",
       "      <th>max</th>\n",
       "    </tr>\n",
       "  </thead>\n",
       "  <tbody>\n",
       "    <tr>\n",
       "      <th>Loyalty Number</th>\n",
       "      <td>16737.0</td>\n",
       "      <td>549735.880445</td>\n",
       "      <td>258912.132453</td>\n",
       "      <td>100018.00</td>\n",
       "      <td>326603.00</td>\n",
       "      <td>550434.00</td>\n",
       "      <td>772019.00</td>\n",
       "      <td>999986.00</td>\n",
       "    </tr>\n",
       "    <tr>\n",
       "      <th>Salary</th>\n",
       "      <td>12499.0</td>\n",
       "      <td>79245.609409</td>\n",
       "      <td>35008.297285</td>\n",
       "      <td>-58486.00</td>\n",
       "      <td>59246.50</td>\n",
       "      <td>73455.00</td>\n",
       "      <td>88517.50</td>\n",
       "      <td>407228.00</td>\n",
       "    </tr>\n",
       "    <tr>\n",
       "      <th>CLV</th>\n",
       "      <td>16737.0</td>\n",
       "      <td>7988.896536</td>\n",
       "      <td>6860.982280</td>\n",
       "      <td>1898.01</td>\n",
       "      <td>3980.84</td>\n",
       "      <td>5780.18</td>\n",
       "      <td>8940.58</td>\n",
       "      <td>83325.38</td>\n",
       "    </tr>\n",
       "    <tr>\n",
       "      <th>Enrollment Year</th>\n",
       "      <td>16737.0</td>\n",
       "      <td>2015.253211</td>\n",
       "      <td>1.979111</td>\n",
       "      <td>2012.00</td>\n",
       "      <td>2014.00</td>\n",
       "      <td>2015.00</td>\n",
       "      <td>2017.00</td>\n",
       "      <td>2018.00</td>\n",
       "    </tr>\n",
       "    <tr>\n",
       "      <th>Enrollment Month</th>\n",
       "      <td>16737.0</td>\n",
       "      <td>6.669116</td>\n",
       "      <td>3.398958</td>\n",
       "      <td>1.00</td>\n",
       "      <td>4.00</td>\n",
       "      <td>7.00</td>\n",
       "      <td>10.00</td>\n",
       "      <td>12.00</td>\n",
       "    </tr>\n",
       "    <tr>\n",
       "      <th>Cancellation Year</th>\n",
       "      <td>2067.0</td>\n",
       "      <td>2016.503145</td>\n",
       "      <td>1.380743</td>\n",
       "      <td>2013.00</td>\n",
       "      <td>2016.00</td>\n",
       "      <td>2017.00</td>\n",
       "      <td>2018.00</td>\n",
       "      <td>2018.00</td>\n",
       "    </tr>\n",
       "    <tr>\n",
       "      <th>Cancellation Month</th>\n",
       "      <td>2067.0</td>\n",
       "      <td>6.962748</td>\n",
       "      <td>3.455297</td>\n",
       "      <td>1.00</td>\n",
       "      <td>4.00</td>\n",
       "      <td>7.00</td>\n",
       "      <td>10.00</td>\n",
       "      <td>12.00</td>\n",
       "    </tr>\n",
       "  </tbody>\n",
       "</table>\n",
       "</div>"
      ],
      "text/plain": [
       "                      count           mean            std        min  \\\n",
       "Loyalty Number      16737.0  549735.880445  258912.132453  100018.00   \n",
       "Salary              12499.0   79245.609409   35008.297285  -58486.00   \n",
       "CLV                 16737.0    7988.896536    6860.982280    1898.01   \n",
       "Enrollment Year     16737.0    2015.253211       1.979111    2012.00   \n",
       "Enrollment Month    16737.0       6.669116       3.398958       1.00   \n",
       "Cancellation Year    2067.0    2016.503145       1.380743    2013.00   \n",
       "Cancellation Month   2067.0       6.962748       3.455297       1.00   \n",
       "\n",
       "                          25%        50%        75%        max  \n",
       "Loyalty Number      326603.00  550434.00  772019.00  999986.00  \n",
       "Salary               59246.50   73455.00   88517.50  407228.00  \n",
       "CLV                   3980.84    5780.18    8940.58   83325.38  \n",
       "Enrollment Year       2014.00    2015.00    2017.00    2018.00  \n",
       "Enrollment Month         4.00       7.00      10.00      12.00  \n",
       "Cancellation Year     2016.00    2017.00    2018.00    2018.00  \n",
       "Cancellation Month       4.00       7.00      10.00      12.00  "
      ]
     },
     "metadata": {},
     "output_type": "display_data"
    },
    {
     "name": "stdout",
     "output_type": "stream",
     "text": [
      "----------------------------------------\n",
      "Valores nulos por columna:\n"
     ]
    },
    {
     "data": {
      "text/plain": [
       "Loyalty Number            0\n",
       "Country                   0\n",
       "Province                  0\n",
       "City                      0\n",
       "Postal Code               0\n",
       "Gender                    0\n",
       "Education                 0\n",
       "Salary                 4238\n",
       "Marital Status            0\n",
       "Loyalty Card              0\n",
       "CLV                       0\n",
       "Enrollment Type           0\n",
       "Enrollment Year           0\n",
       "Enrollment Month          0\n",
       "Cancellation Year     14670\n",
       "Cancellation Month    14670\n",
       "dtype: int64"
      ]
     },
     "metadata": {},
     "output_type": "display_data"
    },
    {
     "name": "stdout",
     "output_type": "stream",
     "text": [
      "----------------------------------------\n",
      "Porcentaje de valores nulos por columna:\n"
     ]
    },
    {
     "data": {
      "text/plain": [
       "Loyalty Number          0.0\n",
       "Country                 0.0\n",
       "Province                0.0\n",
       "City                    0.0\n",
       "Postal Code             0.0\n",
       "Gender                  0.0\n",
       "Education               0.0\n",
       "Salary                  0.0\n",
       "Marital Status          0.0\n",
       "Loyalty Card            0.0\n",
       "CLV                     0.0\n",
       "Enrollment Type         0.0\n",
       "Enrollment Year         0.0\n",
       "Enrollment Month        0.0\n",
       "Cancellation Year     100.0\n",
       "Cancellation Month    100.0\n",
       "dtype: float64"
      ]
     },
     "metadata": {},
     "output_type": "display_data"
    },
    {
     "name": "stdout",
     "output_type": "stream",
     "text": [
      "----------------------------------------\n",
      "Número de filas duplicadas:\n"
     ]
    },
    {
     "data": {
      "text/plain": [
       "np.int64(0)"
      ]
     },
     "metadata": {},
     "output_type": "display_data"
    },
    {
     "name": "stdout",
     "output_type": "stream",
     "text": [
      "----------------------------------------\n",
      "Número de valores únicos por columna:\n"
     ]
    },
    {
     "data": {
      "text/plain": [
       "Loyalty Number        16737\n",
       "Country                   1\n",
       "Province                 11\n",
       "City                     29\n",
       "Postal Code              55\n",
       "Gender                    2\n",
       "Education                 5\n",
       "Salary                 5890\n",
       "Marital Status            3\n",
       "Loyalty Card              3\n",
       "CLV                    7984\n",
       "Enrollment Type           2\n",
       "Enrollment Year           7\n",
       "Enrollment Month         12\n",
       "Cancellation Year         6\n",
       "Cancellation Month       12\n",
       "dtype: int64"
      ]
     },
     "metadata": {},
     "output_type": "display_data"
    },
    {
     "name": "stdout",
     "output_type": "stream",
     "text": [
      "----------------------------------------\n",
      "Variables categóricas:\n"
     ]
    },
    {
     "data": {
      "text/plain": [
       "Index(['Country', 'Province', 'City', 'Postal Code', 'Gender', 'Education',\n",
       "       'Marital Status', 'Loyalty Card', 'Enrollment Type'],\n",
       "      dtype='object')"
      ]
     },
     "metadata": {},
     "output_type": "display_data"
    },
    {
     "name": "stdout",
     "output_type": "stream",
     "text": [
      "----------------------------------------\n",
      "Variables numéricas:\n"
     ]
    },
    {
     "data": {
      "text/plain": [
       "Index(['Loyalty Number', 'Salary', 'CLV', 'Enrollment Year',\n",
       "       'Enrollment Month', 'Cancellation Year', 'Cancellation Month'],\n",
       "      dtype='object')"
      ]
     },
     "metadata": {},
     "output_type": "display_data"
    },
    {
     "name": "stdout",
     "output_type": "stream",
     "text": [
      "----------------------------------------\n",
      "Shape del DataFrame:\n"
     ]
    },
    {
     "data": {
      "text/plain": [
       "(16737, 16)"
      ]
     },
     "metadata": {},
     "output_type": "display_data"
    }
   ],
   "source": [
    "#Main\n",
    "archivo = \"Customer Loyalty History.csv\"\n",
    "df_flight = eda_customers(archivo)"
   ]
  },
  {
   "cell_type": "code",
   "execution_count": 33,
   "metadata": {},
   "outputs": [
    {
     "name": "stdout",
     "output_type": "stream",
     "text": [
      "Archivo cargado exitosamente\n",
      "Exploración de la columna: Loyalty Number\n",
      "Descripción estadística:\n"
     ]
    },
    {
     "data": {
      "text/plain": [
       "count    405624.000000\n",
       "mean     550037.873084\n",
       "std      258935.286969\n",
       "min      100018.000000\n",
       "25%      326961.000000\n",
       "50%      550834.000000\n",
       "75%      772194.000000\n",
       "max      999986.000000\n",
       "Name: Loyalty Number, dtype: float64"
      ]
     },
     "metadata": {},
     "output_type": "display_data"
    },
    {
     "name": "stdout",
     "output_type": "stream",
     "text": [
      "Conteo de valores nulos:\n",
      "0\n",
      "Número de filas duplicadas:\n"
     ]
    },
    {
     "data": {
      "text/plain": [
       "np.int64(388887)"
      ]
     },
     "metadata": {},
     "output_type": "display_data"
    },
    {
     "name": "stdout",
     "output_type": "stream",
     "text": [
      "Conteo de valores únicos:\n",
      "16737\n",
      "Conteo de valores:\n"
     ]
    },
    {
     "data": {
      "text/plain": [
       "Loyalty Number\n",
       "678205    72\n",
       "642020    48\n",
       "130331    48\n",
       "903359    48\n",
       "776466    48\n",
       "          ..\n",
       "428305    24\n",
       "428249    24\n",
       "428162    24\n",
       "428152    24\n",
       "428520    24\n",
       "Name: count, Length: 16737, dtype: int64"
      ]
     },
     "metadata": {},
     "output_type": "display_data"
    },
    {
     "name": "stdout",
     "output_type": "stream",
     "text": [
      "Valor más frecuente (moda):\n"
     ]
    },
    {
     "data": {
      "text/plain": [
       "np.int64(678205)"
      ]
     },
     "metadata": {},
     "output_type": "display_data"
    },
    {
     "name": "stdout",
     "output_type": "stream",
     "text": [
      "------------------------------\n",
      "Exploración de la columna: Year\n",
      "Descripción estadística:\n"
     ]
    },
    {
     "data": {
      "text/plain": [
       "count    405624.000000\n",
       "mean       2017.500000\n",
       "std           0.500001\n",
       "min        2017.000000\n",
       "25%        2017.000000\n",
       "50%        2017.500000\n",
       "75%        2018.000000\n",
       "max        2018.000000\n",
       "Name: Year, dtype: float64"
      ]
     },
     "metadata": {},
     "output_type": "display_data"
    },
    {
     "name": "stdout",
     "output_type": "stream",
     "text": [
      "Conteo de valores nulos:\n",
      "0\n",
      "Número de filas duplicadas:\n"
     ]
    },
    {
     "data": {
      "text/plain": [
       "np.int64(405622)"
      ]
     },
     "metadata": {},
     "output_type": "display_data"
    },
    {
     "name": "stdout",
     "output_type": "stream",
     "text": [
      "Conteo de valores únicos:\n",
      "2\n",
      "Conteo de valores:\n"
     ]
    },
    {
     "data": {
      "text/plain": [
       "Year\n",
       "2017    202812\n",
       "2018    202812\n",
       "Name: count, dtype: int64"
      ]
     },
     "metadata": {},
     "output_type": "display_data"
    },
    {
     "name": "stdout",
     "output_type": "stream",
     "text": [
      "Valor más frecuente (moda):\n"
     ]
    },
    {
     "data": {
      "text/plain": [
       "np.int64(2017)"
      ]
     },
     "metadata": {},
     "output_type": "display_data"
    },
    {
     "name": "stdout",
     "output_type": "stream",
     "text": [
      "------------------------------\n",
      "Exploración de la columna: Month\n",
      "Descripción estadística:\n"
     ]
    },
    {
     "data": {
      "text/plain": [
       "count    405624.000000\n",
       "mean          6.500000\n",
       "std           3.452057\n",
       "min           1.000000\n",
       "25%           3.750000\n",
       "50%           6.500000\n",
       "75%           9.250000\n",
       "max          12.000000\n",
       "Name: Month, dtype: float64"
      ]
     },
     "metadata": {},
     "output_type": "display_data"
    },
    {
     "name": "stdout",
     "output_type": "stream",
     "text": [
      "Conteo de valores nulos:\n",
      "0\n",
      "Número de filas duplicadas:\n"
     ]
    },
    {
     "data": {
      "text/plain": [
       "np.int64(405612)"
      ]
     },
     "metadata": {},
     "output_type": "display_data"
    },
    {
     "name": "stdout",
     "output_type": "stream",
     "text": [
      "Conteo de valores únicos:\n",
      "12\n",
      "Conteo de valores:\n"
     ]
    },
    {
     "data": {
      "text/plain": [
       "Month\n",
       "1     33802\n",
       "9     33802\n",
       "2     33802\n",
       "3     33802\n",
       "11    33802\n",
       "4     33802\n",
       "5     33802\n",
       "7     33802\n",
       "6     33802\n",
       "8     33802\n",
       "10    33802\n",
       "12    33802\n",
       "Name: count, dtype: int64"
      ]
     },
     "metadata": {},
     "output_type": "display_data"
    },
    {
     "name": "stdout",
     "output_type": "stream",
     "text": [
      "Valor más frecuente (moda):\n"
     ]
    },
    {
     "data": {
      "text/plain": [
       "np.int64(1)"
      ]
     },
     "metadata": {},
     "output_type": "display_data"
    },
    {
     "name": "stdout",
     "output_type": "stream",
     "text": [
      "------------------------------\n",
      "Exploración de la columna: Flights Booked\n",
      "Descripción estadística:\n"
     ]
    },
    {
     "data": {
      "text/plain": [
       "count    405624.000000\n",
       "mean          4.115052\n",
       "std           5.225518\n",
       "min           0.000000\n",
       "25%           0.000000\n",
       "50%           1.000000\n",
       "75%           8.000000\n",
       "max          21.000000\n",
       "Name: Flights Booked, dtype: float64"
      ]
     },
     "metadata": {},
     "output_type": "display_data"
    },
    {
     "name": "stdout",
     "output_type": "stream",
     "text": [
      "Conteo de valores nulos:\n",
      "0\n",
      "Número de filas duplicadas:\n"
     ]
    },
    {
     "data": {
      "text/plain": [
       "np.int64(405602)"
      ]
     },
     "metadata": {},
     "output_type": "display_data"
    },
    {
     "name": "stdout",
     "output_type": "stream",
     "text": [
      "Conteo de valores únicos:\n",
      "22\n",
      "Conteo de valores:\n"
     ]
    },
    {
     "data": {
      "text/plain": [
       "Flights Booked\n",
       "0     197992\n",
       "3      18228\n",
       "11     15705\n",
       "5      15084\n",
       "7      14561\n",
       "8      14357\n",
       "9      14164\n",
       "6      13847\n",
       "2      13641\n",
       "10     13363\n",
       "4      12821\n",
       "1      12667\n",
       "13     10782\n",
       "12     10382\n",
       "14      7057\n",
       "15      6582\n",
       "16      4354\n",
       "17      3899\n",
       "18      2958\n",
       "19      1496\n",
       "20      1156\n",
       "21       528\n",
       "Name: count, dtype: int64"
      ]
     },
     "metadata": {},
     "output_type": "display_data"
    },
    {
     "name": "stdout",
     "output_type": "stream",
     "text": [
      "Valor más frecuente (moda):\n"
     ]
    },
    {
     "data": {
      "text/plain": [
       "np.int64(0)"
      ]
     },
     "metadata": {},
     "output_type": "display_data"
    },
    {
     "name": "stdout",
     "output_type": "stream",
     "text": [
      "------------------------------\n",
      "Exploración de la columna: Flights with Companions\n",
      "Descripción estadística:\n"
     ]
    },
    {
     "data": {
      "text/plain": [
       "count    405624.000000\n",
       "mean          1.031805\n",
       "std           2.076869\n",
       "min           0.000000\n",
       "25%           0.000000\n",
       "50%           0.000000\n",
       "75%           1.000000\n",
       "max          11.000000\n",
       "Name: Flights with Companions, dtype: float64"
      ]
     },
     "metadata": {},
     "output_type": "display_data"
    },
    {
     "name": "stdout",
     "output_type": "stream",
     "text": [
      "Conteo de valores nulos:\n",
      "0\n",
      "Número de filas duplicadas:\n"
     ]
    },
    {
     "data": {
      "text/plain": [
       "np.int64(405612)"
      ]
     },
     "metadata": {},
     "output_type": "display_data"
    },
    {
     "name": "stdout",
     "output_type": "stream",
     "text": [
      "Conteo de valores únicos:\n",
      "12\n",
      "Conteo de valores:\n"
     ]
    },
    {
     "data": {
      "text/plain": [
       "Flights with Companions\n",
       "0     296887\n",
       "2      19272\n",
       "3      19015\n",
       "1      17905\n",
       "4      13665\n",
       "5      13424\n",
       "6       9911\n",
       "7       7089\n",
       "8       3965\n",
       "9       2944\n",
       "10      1071\n",
       "11       476\n",
       "Name: count, dtype: int64"
      ]
     },
     "metadata": {},
     "output_type": "display_data"
    },
    {
     "name": "stdout",
     "output_type": "stream",
     "text": [
      "Valor más frecuente (moda):\n"
     ]
    },
    {
     "data": {
      "text/plain": [
       "np.int64(0)"
      ]
     },
     "metadata": {},
     "output_type": "display_data"
    },
    {
     "name": "stdout",
     "output_type": "stream",
     "text": [
      "------------------------------\n",
      "Exploración de la columna: Total Flights\n",
      "Descripción estadística:\n"
     ]
    },
    {
     "data": {
      "text/plain": [
       "count    405624.000000\n",
       "mean          5.146858\n",
       "std           6.521227\n",
       "min           0.000000\n",
       "25%           0.000000\n",
       "50%           1.000000\n",
       "75%          10.000000\n",
       "max          32.000000\n",
       "Name: Total Flights, dtype: float64"
      ]
     },
     "metadata": {},
     "output_type": "display_data"
    },
    {
     "name": "stdout",
     "output_type": "stream",
     "text": [
      "Conteo de valores nulos:\n",
      "0\n",
      "Número de filas duplicadas:\n"
     ]
    },
    {
     "data": {
      "text/plain": [
       "np.int64(405591)"
      ]
     },
     "metadata": {},
     "output_type": "display_data"
    },
    {
     "name": "stdout",
     "output_type": "stream",
     "text": [
      "Conteo de valores únicos:\n",
      "33\n",
      "Conteo de valores:\n"
     ]
    },
    {
     "data": {
      "text/plain": [
       "Total Flights\n",
       "0     197992\n",
       "6      15273\n",
       "10     14393\n",
       "8      14056\n",
       "4      13656\n",
       "2      13032\n",
       "12     12409\n",
       "11     12300\n",
       "9      10688\n",
       "13     10499\n",
       "14     10310\n",
       "7       9873\n",
       "3       9783\n",
       "5       9309\n",
       "15      8544\n",
       "16      7727\n",
       "17      6198\n",
       "1       6106\n",
       "18      5757\n",
       "19      4002\n",
       "20      3417\n",
       "21      2610\n",
       "22      1981\n",
       "23      1616\n",
       "24      1209\n",
       "25       900\n",
       "26       722\n",
       "27       504\n",
       "28       306\n",
       "29       214\n",
       "30       150\n",
       "31        61\n",
       "32        27\n",
       "Name: count, dtype: int64"
      ]
     },
     "metadata": {},
     "output_type": "display_data"
    },
    {
     "name": "stdout",
     "output_type": "stream",
     "text": [
      "Valor más frecuente (moda):\n"
     ]
    },
    {
     "data": {
      "text/plain": [
       "np.int64(0)"
      ]
     },
     "metadata": {},
     "output_type": "display_data"
    },
    {
     "name": "stdout",
     "output_type": "stream",
     "text": [
      "------------------------------\n",
      "Exploración de la columna: Distance\n",
      "Descripción estadística:\n"
     ]
    },
    {
     "data": {
      "text/plain": [
       "count    405624.000000\n",
       "mean       1208.880059\n",
       "std        1433.155320\n",
       "min           0.000000\n",
       "25%           0.000000\n",
       "50%         488.000000\n",
       "75%        2336.000000\n",
       "max        6293.000000\n",
       "Name: Distance, dtype: float64"
      ]
     },
     "metadata": {},
     "output_type": "display_data"
    },
    {
     "name": "stdout",
     "output_type": "stream",
     "text": [
      "Conteo de valores nulos:\n",
      "0\n",
      "Número de filas duplicadas:\n"
     ]
    },
    {
     "data": {
      "text/plain": [
       "np.int64(400878)"
      ]
     },
     "metadata": {},
     "output_type": "display_data"
    },
    {
     "name": "stdout",
     "output_type": "stream",
     "text": [
      "Conteo de valores únicos:\n",
      "4746\n",
      "Conteo de valores:\n"
     ]
    },
    {
     "data": {
      "text/plain": [
       "Distance\n",
       "0       197992\n",
       "2520       410\n",
       "2880       401\n",
       "1680       389\n",
       "2160       365\n",
       "         ...  \n",
       "2963         1\n",
       "4997         1\n",
       "947          1\n",
       "3187         1\n",
       "671          1\n",
       "Name: count, Length: 4746, dtype: int64"
      ]
     },
     "metadata": {},
     "output_type": "display_data"
    },
    {
     "name": "stdout",
     "output_type": "stream",
     "text": [
      "Valor más frecuente (moda):\n"
     ]
    },
    {
     "data": {
      "text/plain": [
       "np.int64(0)"
      ]
     },
     "metadata": {},
     "output_type": "display_data"
    },
    {
     "name": "stdout",
     "output_type": "stream",
     "text": [
      "------------------------------\n",
      "Exploración de la columna: Points Accumulated\n",
      "Descripción estadística:\n"
     ]
    },
    {
     "data": {
      "text/plain": [
       "count    405624.000000\n",
       "mean        123.692721\n",
       "std         146.599831\n",
       "min           0.000000\n",
       "25%           0.000000\n",
       "50%          50.000000\n",
       "75%         239.000000\n",
       "max         676.500000\n",
       "Name: Points Accumulated, dtype: float64"
      ]
     },
     "metadata": {},
     "output_type": "display_data"
    },
    {
     "name": "stdout",
     "output_type": "stream",
     "text": [
      "Conteo de valores nulos:\n",
      "0\n",
      "Número de filas duplicadas:\n"
     ]
    },
    {
     "data": {
      "text/plain": [
       "np.int64(404075)"
      ]
     },
     "metadata": {},
     "output_type": "display_data"
    },
    {
     "name": "stdout",
     "output_type": "stream",
     "text": [
      "Conteo de valores únicos:\n",
      "1549\n",
      "Conteo de valores:\n"
     ]
    },
    {
     "data": {
      "text/plain": [
       "Points Accumulated\n",
       "0.00      197992\n",
       "180.00       763\n",
       "270.00       734\n",
       "288.00       717\n",
       "189.00       709\n",
       "           ...  \n",
       "649.50         1\n",
       "471.96         1\n",
       "565.50         1\n",
       "474.12         1\n",
       "556.25         1\n",
       "Name: count, Length: 1549, dtype: int64"
      ]
     },
     "metadata": {},
     "output_type": "display_data"
    },
    {
     "name": "stdout",
     "output_type": "stream",
     "text": [
      "Valor más frecuente (moda):\n"
     ]
    },
    {
     "data": {
      "text/plain": [
       "np.float64(0.0)"
      ]
     },
     "metadata": {},
     "output_type": "display_data"
    },
    {
     "name": "stdout",
     "output_type": "stream",
     "text": [
      "------------------------------\n",
      "Exploración de la columna: Points Redeemed\n",
      "Descripción estadística:\n"
     ]
    },
    {
     "data": {
      "text/plain": [
       "count    405624.000000\n",
       "mean         30.696872\n",
       "std         125.486049\n",
       "min           0.000000\n",
       "25%           0.000000\n",
       "50%           0.000000\n",
       "75%           0.000000\n",
       "max         876.000000\n",
       "Name: Points Redeemed, dtype: float64"
      ]
     },
     "metadata": {},
     "output_type": "display_data"
    },
    {
     "name": "stdout",
     "output_type": "stream",
     "text": [
      "Conteo de valores nulos:\n",
      "0\n",
      "Número de filas duplicadas:\n"
     ]
    },
    {
     "data": {
      "text/plain": [
       "np.int64(405037)"
      ]
     },
     "metadata": {},
     "output_type": "display_data"
    },
    {
     "name": "stdout",
     "output_type": "stream",
     "text": [
      "Conteo de valores únicos:\n",
      "587\n",
      "Conteo de valores:\n"
     ]
    },
    {
     "data": {
      "text/plain": [
       "Points Redeemed\n",
       "0      381443\n",
       "447       103\n",
       "523       100\n",
       "443        98\n",
       "516        97\n",
       "        ...  \n",
       "858         1\n",
       "869         1\n",
       "834         1\n",
       "859         1\n",
       "862         1\n",
       "Name: count, Length: 587, dtype: int64"
      ]
     },
     "metadata": {},
     "output_type": "display_data"
    },
    {
     "name": "stdout",
     "output_type": "stream",
     "text": [
      "Valor más frecuente (moda):\n"
     ]
    },
    {
     "data": {
      "text/plain": [
       "np.int64(0)"
      ]
     },
     "metadata": {},
     "output_type": "display_data"
    },
    {
     "name": "stdout",
     "output_type": "stream",
     "text": [
      "------------------------------\n",
      "Exploración de la columna: Dollar Cost Points Redeemed\n",
      "Descripción estadística:\n"
     ]
    },
    {
     "data": {
      "text/plain": [
       "count    405624.000000\n",
       "mean          2.484503\n",
       "std          10.150038\n",
       "min           0.000000\n",
       "25%           0.000000\n",
       "50%           0.000000\n",
       "75%           0.000000\n",
       "max          71.000000\n",
       "Name: Dollar Cost Points Redeemed, dtype: float64"
      ]
     },
     "metadata": {},
     "output_type": "display_data"
    },
    {
     "name": "stdout",
     "output_type": "stream",
     "text": [
      "Conteo de valores nulos:\n",
      "0\n",
      "Número de filas duplicadas:\n"
     ]
    },
    {
     "data": {
      "text/plain": [
       "np.int64(405575)"
      ]
     },
     "metadata": {},
     "output_type": "display_data"
    },
    {
     "name": "stdout",
     "output_type": "stream",
     "text": [
      "Conteo de valores únicos:\n",
      "49\n",
      "Conteo de valores:\n"
     ]
    },
    {
     "data": {
      "text/plain": [
       "Dollar Cost Points Redeemed\n",
       "0     381443\n",
       "36      1037\n",
       "38      1001\n",
       "40       993\n",
       "42       983\n",
       "39       943\n",
       "44       923\n",
       "41       913\n",
       "37       887\n",
       "43       877\n",
       "35       852\n",
       "34       844\n",
       "32       817\n",
       "33       800\n",
       "45       779\n",
       "30       772\n",
       "46       753\n",
       "31       722\n",
       "47       675\n",
       "48       638\n",
       "28       598\n",
       "29       596\n",
       "50       595\n",
       "49       568\n",
       "52       482\n",
       "51       435\n",
       "27       421\n",
       "54       402\n",
       "26       379\n",
       "53       377\n",
       "56       365\n",
       "55       343\n",
       "57       274\n",
       "58       265\n",
       "60       260\n",
       "59       219\n",
       "25       209\n",
       "61       175\n",
       "63       175\n",
       "62       155\n",
       "64       152\n",
       "24       110\n",
       "66       106\n",
       "65        90\n",
       "68        85\n",
       "67        68\n",
       "70        38\n",
       "69        28\n",
       "71         2\n",
       "Name: count, dtype: int64"
      ]
     },
     "metadata": {},
     "output_type": "display_data"
    },
    {
     "name": "stdout",
     "output_type": "stream",
     "text": [
      "Valor más frecuente (moda):\n"
     ]
    },
    {
     "data": {
      "text/plain": [
       "np.int64(0)"
      ]
     },
     "metadata": {},
     "output_type": "display_data"
    },
    {
     "name": "stdout",
     "output_type": "stream",
     "text": [
      "------------------------------\n"
     ]
    }
   ],
   "source": [
    "\n",
    "def eda_columnas_flight(archivo):\n",
    " \n",
    "    \n",
    "    # Cargar datos desde el archivo CSV\n",
    "    df_flight = pd.read_csv(archivo)\n",
    "    print(\"Archivo cargado exitosamente\")\n",
    "    \n",
    "           \n",
    "    # Explorar cada columna del DataFrame\n",
    "    for columna in df_flight.columns:\n",
    "        print(f\"Exploración de la columna: {columna}\")\n",
    "        datos_columna = df_flight[columna]  # Extrae los datos de la columna específica\n",
    "\n",
    "        # Descripción estadística\n",
    "        print(\"Descripción estadística:\")\n",
    "        display(datos_columna.describe(include='all'))\n",
    "        \n",
    "        # valores nulos\n",
    "        print(\"Conteo de valores nulos:\")\n",
    "        print(datos_columna.isnull().sum())\n",
    "        \n",
    "        # valores duplicados\n",
    "        print(\"Número de filas duplicadas:\")\n",
    "        display(df_flight.duplicated(subset=[columna]).sum())\n",
    "       \n",
    "        #  valores únicos\n",
    "        print(\"Conteo de valores únicos:\")\n",
    "        print(datos_columna.nunique())\n",
    "        \n",
    "                \n",
    "        # conteo de cada valor\n",
    "        print(\"Conteo de valores:\")\n",
    "        display(datos_columna.value_counts())\n",
    "        \n",
    "        # valor más frecuente (moda)\n",
    "        if not datos_columna.mode().empty:\n",
    "            print(\"Valor más frecuente (moda):\")\n",
    "            display(datos_columna.mode().iloc[0])\n",
    "        \n",
    "        print(\"-\" * 30)\n",
    "\n",
    "# Llamada a la función\n",
    "archivo = 'Customer Flight Activity.csv'  \n",
    "eda_columnas_flight(archivo)\n"
   ]
  },
  {
   "cell_type": "code",
   "execution_count": 34,
   "metadata": {},
   "outputs": [
    {
     "name": "stdout",
     "output_type": "stream",
     "text": [
      "Archivo cargado exitosamente\n",
      "Exploración de la columna: Loyalty Number\n",
      "Descripción estadística:\n"
     ]
    },
    {
     "data": {
      "text/plain": [
       "count     16737.000000\n",
       "mean     549735.880445\n",
       "std      258912.132453\n",
       "min      100018.000000\n",
       "25%      326603.000000\n",
       "50%      550434.000000\n",
       "75%      772019.000000\n",
       "max      999986.000000\n",
       "Name: Loyalty Number, dtype: float64"
      ]
     },
     "metadata": {},
     "output_type": "display_data"
    },
    {
     "name": "stdout",
     "output_type": "stream",
     "text": [
      "Conteo de valores nulos:\n",
      "0\n",
      "Número de filas duplicadas:\n"
     ]
    },
    {
     "data": {
      "text/plain": [
       "np.int64(0)"
      ]
     },
     "metadata": {},
     "output_type": "display_data"
    },
    {
     "name": "stdout",
     "output_type": "stream",
     "text": [
      "Conteo de valores únicos:\n",
      "16737\n",
      "Conteo de valores:\n"
     ]
    },
    {
     "data": {
      "text/plain": [
       "Loyalty Number\n",
       "652627    1\n",
       "118864    1\n",
       "310700    1\n",
       "795743    1\n",
       "702528    1\n",
       "         ..\n",
       "193662    1\n",
       "530508    1\n",
       "608370    1\n",
       "429460    1\n",
       "549612    1\n",
       "Name: count, Length: 16737, dtype: int64"
      ]
     },
     "metadata": {},
     "output_type": "display_data"
    },
    {
     "name": "stdout",
     "output_type": "stream",
     "text": [
      "Valor más frecuente (moda):\n"
     ]
    },
    {
     "data": {
      "text/plain": [
       "np.int64(100018)"
      ]
     },
     "metadata": {},
     "output_type": "display_data"
    },
    {
     "name": "stdout",
     "output_type": "stream",
     "text": [
      "------------------------------\n",
      "Exploración de la columna: Country\n",
      "Descripción estadística:\n"
     ]
    },
    {
     "data": {
      "text/plain": [
       "count      16737\n",
       "unique         1\n",
       "top       Canada\n",
       "freq       16737\n",
       "Name: Country, dtype: object"
      ]
     },
     "metadata": {},
     "output_type": "display_data"
    },
    {
     "name": "stdout",
     "output_type": "stream",
     "text": [
      "Conteo de valores nulos:\n",
      "0\n",
      "Número de filas duplicadas:\n"
     ]
    },
    {
     "data": {
      "text/plain": [
       "np.int64(16736)"
      ]
     },
     "metadata": {},
     "output_type": "display_data"
    },
    {
     "name": "stdout",
     "output_type": "stream",
     "text": [
      "Conteo de valores únicos:\n",
      "1\n",
      "Conteo de valores:\n"
     ]
    },
    {
     "data": {
      "text/plain": [
       "Country\n",
       "Canada    16737\n",
       "Name: count, dtype: int64"
      ]
     },
     "metadata": {},
     "output_type": "display_data"
    },
    {
     "name": "stdout",
     "output_type": "stream",
     "text": [
      "Valor más frecuente (moda):\n"
     ]
    },
    {
     "data": {
      "text/plain": [
       "'Canada'"
      ]
     },
     "metadata": {},
     "output_type": "display_data"
    },
    {
     "name": "stdout",
     "output_type": "stream",
     "text": [
      "------------------------------\n",
      "Exploración de la columna: Province\n",
      "Descripción estadística:\n"
     ]
    },
    {
     "data": {
      "text/plain": [
       "count       16737\n",
       "unique         11\n",
       "top       Ontario\n",
       "freq         5404\n",
       "Name: Province, dtype: object"
      ]
     },
     "metadata": {},
     "output_type": "display_data"
    },
    {
     "name": "stdout",
     "output_type": "stream",
     "text": [
      "Conteo de valores nulos:\n",
      "0\n",
      "Número de filas duplicadas:\n"
     ]
    },
    {
     "data": {
      "text/plain": [
       "np.int64(16726)"
      ]
     },
     "metadata": {},
     "output_type": "display_data"
    },
    {
     "name": "stdout",
     "output_type": "stream",
     "text": [
      "Conteo de valores únicos:\n",
      "11\n",
      "Conteo de valores:\n"
     ]
    },
    {
     "data": {
      "text/plain": [
       "Province\n",
       "Ontario                 5404\n",
       "British Columbia        4409\n",
       "Quebec                  3300\n",
       "Alberta                  969\n",
       "Manitoba                 658\n",
       "New Brunswick            636\n",
       "Nova Scotia              518\n",
       "Saskatchewan             409\n",
       "Newfoundland             258\n",
       "Yukon                    110\n",
       "Prince Edward Island      66\n",
       "Name: count, dtype: int64"
      ]
     },
     "metadata": {},
     "output_type": "display_data"
    },
    {
     "name": "stdout",
     "output_type": "stream",
     "text": [
      "Valor más frecuente (moda):\n"
     ]
    },
    {
     "data": {
      "text/plain": [
       "'Ontario'"
      ]
     },
     "metadata": {},
     "output_type": "display_data"
    },
    {
     "name": "stdout",
     "output_type": "stream",
     "text": [
      "------------------------------\n",
      "Exploración de la columna: City\n",
      "Descripción estadística:\n"
     ]
    },
    {
     "data": {
      "text/plain": [
       "count       16737\n",
       "unique         29\n",
       "top       Toronto\n",
       "freq         3351\n",
       "Name: City, dtype: object"
      ]
     },
     "metadata": {},
     "output_type": "display_data"
    },
    {
     "name": "stdout",
     "output_type": "stream",
     "text": [
      "Conteo de valores nulos:\n",
      "0\n",
      "Número de filas duplicadas:\n"
     ]
    },
    {
     "data": {
      "text/plain": [
       "np.int64(16708)"
      ]
     },
     "metadata": {},
     "output_type": "display_data"
    },
    {
     "name": "stdout",
     "output_type": "stream",
     "text": [
      "Conteo de valores únicos:\n",
      "29\n",
      "Conteo de valores:\n"
     ]
    },
    {
     "data": {
      "text/plain": [
       "City\n",
       "Toronto           3351\n",
       "Vancouver         2582\n",
       "Montreal          2059\n",
       "Winnipeg           658\n",
       "Whistler           582\n",
       "Halifax            518\n",
       "Ottawa             509\n",
       "Trenton            486\n",
       "Edmonton           486\n",
       "Quebec City        485\n",
       "Dawson Creek       444\n",
       "Fredericton        425\n",
       "Regina             409\n",
       "Kingston           401\n",
       "Tremblant          398\n",
       "Victoria           389\n",
       "Hull               358\n",
       "West Vancouver     324\n",
       "St. John's         258\n",
       "Thunder Bay        256\n",
       "Sudbury            227\n",
       "Moncton            211\n",
       "Calgary            191\n",
       "Banff              179\n",
       "London             174\n",
       "Peace River        113\n",
       "Whitehorse         110\n",
       "Kelowna             88\n",
       "Charlottetown       66\n",
       "Name: count, dtype: int64"
      ]
     },
     "metadata": {},
     "output_type": "display_data"
    },
    {
     "name": "stdout",
     "output_type": "stream",
     "text": [
      "Valor más frecuente (moda):\n"
     ]
    },
    {
     "data": {
      "text/plain": [
       "'Toronto'"
      ]
     },
     "metadata": {},
     "output_type": "display_data"
    },
    {
     "name": "stdout",
     "output_type": "stream",
     "text": [
      "------------------------------\n",
      "Exploración de la columna: Postal Code\n",
      "Descripción estadística:\n"
     ]
    },
    {
     "data": {
      "text/plain": [
       "count       16737\n",
       "unique         55\n",
       "top       V6E 3D9\n",
       "freq          911\n",
       "Name: Postal Code, dtype: object"
      ]
     },
     "metadata": {},
     "output_type": "display_data"
    },
    {
     "name": "stdout",
     "output_type": "stream",
     "text": [
      "Conteo de valores nulos:\n",
      "0\n",
      "Número de filas duplicadas:\n"
     ]
    },
    {
     "data": {
      "text/plain": [
       "np.int64(16682)"
      ]
     },
     "metadata": {},
     "output_type": "display_data"
    },
    {
     "name": "stdout",
     "output_type": "stream",
     "text": [
      "Conteo de valores únicos:\n",
      "55\n",
      "Conteo de valores:\n"
     ]
    },
    {
     "data": {
      "text/plain": [
       "Postal Code\n",
       "V6E 3D9    911\n",
       "V5R 1W3    684\n",
       "V6T 1Y8    582\n",
       "V6E 3Z3    544\n",
       "M2M 7K8    534\n",
       "P1J 8T7    500\n",
       "H2T 9K8    499\n",
       "K8V 4B2    486\n",
       "G1B 3L5    485\n",
       "H2T 2J6    446\n",
       "U5I 4F1    444\n",
       "V1E 4R6    443\n",
       "E3B 2H2    425\n",
       "R2C 0M5    415\n",
       "M9K 2P4    401\n",
       "H5Y 2S9    398\n",
       "K1F 2R2    389\n",
       "V10 6T5    389\n",
       "H2Y 2W2    365\n",
       "J8Y 3Z5    358\n",
       "M8Y 4K8    340\n",
       "H4G 3T4    338\n",
       "B3J 9S2    329\n",
       "V6V 8Z3    324\n",
       "P2T 6G3    322\n",
       "H2Y 4R4    315\n",
       "M1R 4K3    313\n",
       "P1L 8X8    282\n",
       "P1W 1K4    275\n",
       "T9G 1W3    266\n",
       "A1C 6H9    258\n",
       "M2Z 4K1    257\n",
       "K8T 5M5    256\n",
       "P5S 6R4    246\n",
       "M5V 1G5    227\n",
       "S6J 3G0    226\n",
       "T3G 6Y6    220\n",
       "E1A 2A7    211\n",
       "T3E 2V9    191\n",
       "B3C 2M8    189\n",
       "S1J 3C5    183\n",
       "T4V 1D4    179\n",
       "M5B 3E4    174\n",
       "M2M 6J7    153\n",
       "R6Y 4T5    143\n",
       "M2P 4F6    126\n",
       "K1G 4Z0    120\n",
       "T9O 2W2    113\n",
       "Y2K 6R0    110\n",
       "R3R 3T4    100\n",
       "H3T 8L4     89\n",
       "V09 2E9     88\n",
       "C1A 6E8     66\n",
       "H3J 5I6      7\n",
       "M3R 4K8      3\n",
       "Name: count, dtype: int64"
      ]
     },
     "metadata": {},
     "output_type": "display_data"
    },
    {
     "name": "stdout",
     "output_type": "stream",
     "text": [
      "Valor más frecuente (moda):\n"
     ]
    },
    {
     "data": {
      "text/plain": [
       "'V6E 3D9'"
      ]
     },
     "metadata": {},
     "output_type": "display_data"
    },
    {
     "name": "stdout",
     "output_type": "stream",
     "text": [
      "------------------------------\n",
      "Exploración de la columna: Gender\n",
      "Descripción estadística:\n"
     ]
    },
    {
     "data": {
      "text/plain": [
       "count      16737\n",
       "unique         2\n",
       "top       Female\n",
       "freq        8410\n",
       "Name: Gender, dtype: object"
      ]
     },
     "metadata": {},
     "output_type": "display_data"
    },
    {
     "name": "stdout",
     "output_type": "stream",
     "text": [
      "Conteo de valores nulos:\n",
      "0\n",
      "Número de filas duplicadas:\n"
     ]
    },
    {
     "data": {
      "text/plain": [
       "np.int64(16735)"
      ]
     },
     "metadata": {},
     "output_type": "display_data"
    },
    {
     "name": "stdout",
     "output_type": "stream",
     "text": [
      "Conteo de valores únicos:\n",
      "2\n",
      "Conteo de valores:\n"
     ]
    },
    {
     "data": {
      "text/plain": [
       "Gender\n",
       "Female    8410\n",
       "Male      8327\n",
       "Name: count, dtype: int64"
      ]
     },
     "metadata": {},
     "output_type": "display_data"
    },
    {
     "name": "stdout",
     "output_type": "stream",
     "text": [
      "Valor más frecuente (moda):\n"
     ]
    },
    {
     "data": {
      "text/plain": [
       "'Female'"
      ]
     },
     "metadata": {},
     "output_type": "display_data"
    },
    {
     "name": "stdout",
     "output_type": "stream",
     "text": [
      "------------------------------\n",
      "Exploración de la columna: Education\n",
      "Descripción estadística:\n"
     ]
    },
    {
     "data": {
      "text/plain": [
       "count        16737\n",
       "unique           5\n",
       "top       Bachelor\n",
       "freq         10475\n",
       "Name: Education, dtype: object"
      ]
     },
     "metadata": {},
     "output_type": "display_data"
    },
    {
     "name": "stdout",
     "output_type": "stream",
     "text": [
      "Conteo de valores nulos:\n",
      "0\n",
      "Número de filas duplicadas:\n"
     ]
    },
    {
     "data": {
      "text/plain": [
       "np.int64(16732)"
      ]
     },
     "metadata": {},
     "output_type": "display_data"
    },
    {
     "name": "stdout",
     "output_type": "stream",
     "text": [
      "Conteo de valores únicos:\n",
      "5\n",
      "Conteo de valores:\n"
     ]
    },
    {
     "data": {
      "text/plain": [
       "Education\n",
       "Bachelor                10475\n",
       "College                  4238\n",
       "High School or Below      782\n",
       "Doctor                    734\n",
       "Master                    508\n",
       "Name: count, dtype: int64"
      ]
     },
     "metadata": {},
     "output_type": "display_data"
    },
    {
     "name": "stdout",
     "output_type": "stream",
     "text": [
      "Valor más frecuente (moda):\n"
     ]
    },
    {
     "data": {
      "text/plain": [
       "'Bachelor'"
      ]
     },
     "metadata": {},
     "output_type": "display_data"
    },
    {
     "name": "stdout",
     "output_type": "stream",
     "text": [
      "------------------------------\n",
      "Exploración de la columna: Salary\n",
      "Descripción estadística:\n"
     ]
    },
    {
     "data": {
      "text/plain": [
       "count     12499.000000\n",
       "mean      79245.609409\n",
       "std       35008.297285\n",
       "min      -58486.000000\n",
       "25%       59246.500000\n",
       "50%       73455.000000\n",
       "75%       88517.500000\n",
       "max      407228.000000\n",
       "Name: Salary, dtype: float64"
      ]
     },
     "metadata": {},
     "output_type": "display_data"
    },
    {
     "name": "stdout",
     "output_type": "stream",
     "text": [
      "Conteo de valores nulos:\n",
      "4238\n",
      "Número de filas duplicadas:\n"
     ]
    },
    {
     "data": {
      "text/plain": [
       "np.int64(10846)"
      ]
     },
     "metadata": {},
     "output_type": "display_data"
    },
    {
     "name": "stdout",
     "output_type": "stream",
     "text": [
      "Conteo de valores únicos:\n",
      "5890\n",
      "Conteo de valores:\n"
     ]
    },
    {
     "data": {
      "text/plain": [
       "Salary\n",
       "101933.0    23\n",
       "51573.0     14\n",
       "61809.0     14\n",
       "62283.0     14\n",
       "64001.0     13\n",
       "            ..\n",
       "59314.0      1\n",
       "104138.0     1\n",
       "73400.0      1\n",
       "65798.0      1\n",
       "30767.0      1\n",
       "Name: count, Length: 5890, dtype: int64"
      ]
     },
     "metadata": {},
     "output_type": "display_data"
    },
    {
     "name": "stdout",
     "output_type": "stream",
     "text": [
      "Valor más frecuente (moda):\n"
     ]
    },
    {
     "data": {
      "text/plain": [
       "np.float64(101933.0)"
      ]
     },
     "metadata": {},
     "output_type": "display_data"
    },
    {
     "name": "stdout",
     "output_type": "stream",
     "text": [
      "------------------------------\n",
      "Exploración de la columna: Marital Status\n",
      "Descripción estadística:\n"
     ]
    },
    {
     "data": {
      "text/plain": [
       "count       16737\n",
       "unique          3\n",
       "top       Married\n",
       "freq         9735\n",
       "Name: Marital Status, dtype: object"
      ]
     },
     "metadata": {},
     "output_type": "display_data"
    },
    {
     "name": "stdout",
     "output_type": "stream",
     "text": [
      "Conteo de valores nulos:\n",
      "0\n",
      "Número de filas duplicadas:\n"
     ]
    },
    {
     "data": {
      "text/plain": [
       "np.int64(16734)"
      ]
     },
     "metadata": {},
     "output_type": "display_data"
    },
    {
     "name": "stdout",
     "output_type": "stream",
     "text": [
      "Conteo de valores únicos:\n",
      "3\n",
      "Conteo de valores:\n"
     ]
    },
    {
     "data": {
      "text/plain": [
       "Marital Status\n",
       "Married     9735\n",
       "Single      4484\n",
       "Divorced    2518\n",
       "Name: count, dtype: int64"
      ]
     },
     "metadata": {},
     "output_type": "display_data"
    },
    {
     "name": "stdout",
     "output_type": "stream",
     "text": [
      "Valor más frecuente (moda):\n"
     ]
    },
    {
     "data": {
      "text/plain": [
       "'Married'"
      ]
     },
     "metadata": {},
     "output_type": "display_data"
    },
    {
     "name": "stdout",
     "output_type": "stream",
     "text": [
      "------------------------------\n",
      "Exploración de la columna: Loyalty Card\n",
      "Descripción estadística:\n"
     ]
    },
    {
     "data": {
      "text/plain": [
       "count     16737\n",
       "unique        3\n",
       "top        Star\n",
       "freq       7637\n",
       "Name: Loyalty Card, dtype: object"
      ]
     },
     "metadata": {},
     "output_type": "display_data"
    },
    {
     "name": "stdout",
     "output_type": "stream",
     "text": [
      "Conteo de valores nulos:\n",
      "0\n",
      "Número de filas duplicadas:\n"
     ]
    },
    {
     "data": {
      "text/plain": [
       "np.int64(16734)"
      ]
     },
     "metadata": {},
     "output_type": "display_data"
    },
    {
     "name": "stdout",
     "output_type": "stream",
     "text": [
      "Conteo de valores únicos:\n",
      "3\n",
      "Conteo de valores:\n"
     ]
    },
    {
     "data": {
      "text/plain": [
       "Loyalty Card\n",
       "Star      7637\n",
       "Nova      5671\n",
       "Aurora    3429\n",
       "Name: count, dtype: int64"
      ]
     },
     "metadata": {},
     "output_type": "display_data"
    },
    {
     "name": "stdout",
     "output_type": "stream",
     "text": [
      "Valor más frecuente (moda):\n"
     ]
    },
    {
     "data": {
      "text/plain": [
       "'Star'"
      ]
     },
     "metadata": {},
     "output_type": "display_data"
    },
    {
     "name": "stdout",
     "output_type": "stream",
     "text": [
      "------------------------------\n",
      "Exploración de la columna: CLV\n",
      "Descripción estadística:\n"
     ]
    },
    {
     "data": {
      "text/plain": [
       "count    16737.000000\n",
       "mean      7988.896536\n",
       "std       6860.982280\n",
       "min       1898.010000\n",
       "25%       3980.840000\n",
       "50%       5780.180000\n",
       "75%       8940.580000\n",
       "max      83325.380000\n",
       "Name: CLV, dtype: float64"
      ]
     },
     "metadata": {},
     "output_type": "display_data"
    },
    {
     "name": "stdout",
     "output_type": "stream",
     "text": [
      "Conteo de valores nulos:\n",
      "0\n",
      "Número de filas duplicadas:\n"
     ]
    },
    {
     "data": {
      "text/plain": [
       "np.int64(8753)"
      ]
     },
     "metadata": {},
     "output_type": "display_data"
    },
    {
     "name": "stdout",
     "output_type": "stream",
     "text": [
      "Conteo de valores únicos:\n",
      "7984\n",
      "Conteo de valores:\n"
     ]
    },
    {
     "data": {
      "text/plain": [
       "CLV\n",
       "8564.77     13\n",
       "4770.55     12\n",
       "10963.96    12\n",
       "3731.50     12\n",
       "8879.79     12\n",
       "            ..\n",
       "37939.49     1\n",
       "36168.34     1\n",
       "33288.16     1\n",
       "31864.86     1\n",
       "31758.35     1\n",
       "Name: count, Length: 7984, dtype: int64"
      ]
     },
     "metadata": {},
     "output_type": "display_data"
    },
    {
     "name": "stdout",
     "output_type": "stream",
     "text": [
      "Valor más frecuente (moda):\n"
     ]
    },
    {
     "data": {
      "text/plain": [
       "np.float64(8564.77)"
      ]
     },
     "metadata": {},
     "output_type": "display_data"
    },
    {
     "name": "stdout",
     "output_type": "stream",
     "text": [
      "------------------------------\n",
      "Exploración de la columna: Enrollment Type\n",
      "Descripción estadística:\n"
     ]
    },
    {
     "data": {
      "text/plain": [
       "count        16737\n",
       "unique           2\n",
       "top       Standard\n",
       "freq         15766\n",
       "Name: Enrollment Type, dtype: object"
      ]
     },
     "metadata": {},
     "output_type": "display_data"
    },
    {
     "name": "stdout",
     "output_type": "stream",
     "text": [
      "Conteo de valores nulos:\n",
      "0\n",
      "Número de filas duplicadas:\n"
     ]
    },
    {
     "data": {
      "text/plain": [
       "np.int64(16735)"
      ]
     },
     "metadata": {},
     "output_type": "display_data"
    },
    {
     "name": "stdout",
     "output_type": "stream",
     "text": [
      "Conteo de valores únicos:\n",
      "2\n",
      "Conteo de valores:\n"
     ]
    },
    {
     "data": {
      "text/plain": [
       "Enrollment Type\n",
       "Standard          15766\n",
       "2018 Promotion      971\n",
       "Name: count, dtype: int64"
      ]
     },
     "metadata": {},
     "output_type": "display_data"
    },
    {
     "name": "stdout",
     "output_type": "stream",
     "text": [
      "Valor más frecuente (moda):\n"
     ]
    },
    {
     "data": {
      "text/plain": [
       "'Standard'"
      ]
     },
     "metadata": {},
     "output_type": "display_data"
    },
    {
     "name": "stdout",
     "output_type": "stream",
     "text": [
      "------------------------------\n",
      "Exploración de la columna: Enrollment Year\n",
      "Descripción estadística:\n"
     ]
    },
    {
     "data": {
      "text/plain": [
       "count    16737.000000\n",
       "mean      2015.253211\n",
       "std          1.979111\n",
       "min       2012.000000\n",
       "25%       2014.000000\n",
       "50%       2015.000000\n",
       "75%       2017.000000\n",
       "max       2018.000000\n",
       "Name: Enrollment Year, dtype: float64"
      ]
     },
     "metadata": {},
     "output_type": "display_data"
    },
    {
     "name": "stdout",
     "output_type": "stream",
     "text": [
      "Conteo de valores nulos:\n",
      "0\n",
      "Número de filas duplicadas:\n"
     ]
    },
    {
     "data": {
      "text/plain": [
       "np.int64(16730)"
      ]
     },
     "metadata": {},
     "output_type": "display_data"
    },
    {
     "name": "stdout",
     "output_type": "stream",
     "text": [
      "Conteo de valores únicos:\n",
      "7\n",
      "Conteo de valores:\n"
     ]
    },
    {
     "data": {
      "text/plain": [
       "Enrollment Year\n",
       "2018    3010\n",
       "2017    2487\n",
       "2016    2456\n",
       "2013    2397\n",
       "2014    2370\n",
       "2015    2331\n",
       "2012    1686\n",
       "Name: count, dtype: int64"
      ]
     },
     "metadata": {},
     "output_type": "display_data"
    },
    {
     "name": "stdout",
     "output_type": "stream",
     "text": [
      "Valor más frecuente (moda):\n"
     ]
    },
    {
     "data": {
      "text/plain": [
       "np.int64(2018)"
      ]
     },
     "metadata": {},
     "output_type": "display_data"
    },
    {
     "name": "stdout",
     "output_type": "stream",
     "text": [
      "------------------------------\n",
      "Exploración de la columna: Enrollment Month\n",
      "Descripción estadística:\n"
     ]
    },
    {
     "data": {
      "text/plain": [
       "count    16737.000000\n",
       "mean         6.669116\n",
       "std          3.398958\n",
       "min          1.000000\n",
       "25%          4.000000\n",
       "50%          7.000000\n",
       "75%         10.000000\n",
       "max         12.000000\n",
       "Name: Enrollment Month, dtype: float64"
      ]
     },
     "metadata": {},
     "output_type": "display_data"
    },
    {
     "name": "stdout",
     "output_type": "stream",
     "text": [
      "Conteo de valores nulos:\n",
      "0\n",
      "Número de filas duplicadas:\n"
     ]
    },
    {
     "data": {
      "text/plain": [
       "np.int64(16725)"
      ]
     },
     "metadata": {},
     "output_type": "display_data"
    },
    {
     "name": "stdout",
     "output_type": "stream",
     "text": [
      "Conteo de valores únicos:\n",
      "12\n",
      "Conteo de valores:\n"
     ]
    },
    {
     "data": {
      "text/plain": [
       "Enrollment Month\n",
       "5     1503\n",
       "12    1480\n",
       "7     1473\n",
       "11    1446\n",
       "10    1444\n",
       "8     1430\n",
       "6     1412\n",
       "9     1391\n",
       "4     1388\n",
       "3     1358\n",
       "2     1220\n",
       "1     1192\n",
       "Name: count, dtype: int64"
      ]
     },
     "metadata": {},
     "output_type": "display_data"
    },
    {
     "name": "stdout",
     "output_type": "stream",
     "text": [
      "Valor más frecuente (moda):\n"
     ]
    },
    {
     "data": {
      "text/plain": [
       "np.int64(5)"
      ]
     },
     "metadata": {},
     "output_type": "display_data"
    },
    {
     "name": "stdout",
     "output_type": "stream",
     "text": [
      "------------------------------\n",
      "Exploración de la columna: Cancellation Year\n",
      "Descripción estadística:\n"
     ]
    },
    {
     "data": {
      "text/plain": [
       "count    2067.000000\n",
       "mean     2016.503145\n",
       "std         1.380743\n",
       "min      2013.000000\n",
       "25%      2016.000000\n",
       "50%      2017.000000\n",
       "75%      2018.000000\n",
       "max      2018.000000\n",
       "Name: Cancellation Year, dtype: float64"
      ]
     },
     "metadata": {},
     "output_type": "display_data"
    },
    {
     "name": "stdout",
     "output_type": "stream",
     "text": [
      "Conteo de valores nulos:\n",
      "14670\n",
      "Número de filas duplicadas:\n"
     ]
    },
    {
     "data": {
      "text/plain": [
       "np.int64(16730)"
      ]
     },
     "metadata": {},
     "output_type": "display_data"
    },
    {
     "name": "stdout",
     "output_type": "stream",
     "text": [
      "Conteo de valores únicos:\n",
      "6\n",
      "Conteo de valores:\n"
     ]
    },
    {
     "data": {
      "text/plain": [
       "Cancellation Year\n",
       "2018.0    645\n",
       "2017.0    506\n",
       "2016.0    427\n",
       "2015.0    265\n",
       "2014.0    181\n",
       "2013.0     43\n",
       "Name: count, dtype: int64"
      ]
     },
     "metadata": {},
     "output_type": "display_data"
    },
    {
     "name": "stdout",
     "output_type": "stream",
     "text": [
      "Valor más frecuente (moda):\n"
     ]
    },
    {
     "data": {
      "text/plain": [
       "np.float64(2018.0)"
      ]
     },
     "metadata": {},
     "output_type": "display_data"
    },
    {
     "name": "stdout",
     "output_type": "stream",
     "text": [
      "------------------------------\n",
      "Exploración de la columna: Cancellation Month\n",
      "Descripción estadística:\n"
     ]
    },
    {
     "data": {
      "text/plain": [
       "count    2067.000000\n",
       "mean        6.962748\n",
       "std         3.455297\n",
       "min         1.000000\n",
       "25%         4.000000\n",
       "50%         7.000000\n",
       "75%        10.000000\n",
       "max        12.000000\n",
       "Name: Cancellation Month, dtype: float64"
      ]
     },
     "metadata": {},
     "output_type": "display_data"
    },
    {
     "name": "stdout",
     "output_type": "stream",
     "text": [
      "Conteo de valores nulos:\n",
      "14670\n",
      "Número de filas duplicadas:\n"
     ]
    },
    {
     "data": {
      "text/plain": [
       "np.int64(16724)"
      ]
     },
     "metadata": {},
     "output_type": "display_data"
    },
    {
     "name": "stdout",
     "output_type": "stream",
     "text": [
      "Conteo de valores únicos:\n",
      "12\n",
      "Conteo de valores:\n"
     ]
    },
    {
     "data": {
      "text/plain": [
       "Cancellation Month\n",
       "12.0    213\n",
       "11.0    212\n",
       "8.0     208\n",
       "7.0     186\n",
       "10.0    180\n",
       "9.0     176\n",
       "6.0     165\n",
       "1.0     155\n",
       "3.0     149\n",
       "5.0     148\n",
       "2.0     139\n",
       "4.0     136\n",
       "Name: count, dtype: int64"
      ]
     },
     "metadata": {},
     "output_type": "display_data"
    },
    {
     "name": "stdout",
     "output_type": "stream",
     "text": [
      "Valor más frecuente (moda):\n"
     ]
    },
    {
     "data": {
      "text/plain": [
       "np.float64(12.0)"
      ]
     },
     "metadata": {},
     "output_type": "display_data"
    },
    {
     "name": "stdout",
     "output_type": "stream",
     "text": [
      "------------------------------\n"
     ]
    }
   ],
   "source": [
    "def eda_columnas_customers(archivo):\n",
    " \n",
    "    \n",
    "    # Cargar datos desde el archivo CSV\n",
    "    df_customer = pd.read_csv(archivo)\n",
    "    print(\"Archivo cargado exitosamente\")\n",
    "    \n",
    "           \n",
    "    # Explorar cada columna del DataFrame\n",
    "    for columna in df_customer.columns:\n",
    "        print(f\"Exploración de la columna: {columna}\")\n",
    "        datos_columna = df_customer[columna]  # Extrae los datos de la columna específica\n",
    "\n",
    "        # Descripción estadística\n",
    "        print(\"Descripción estadística:\")\n",
    "        display(datos_columna.describe(include='all'))\n",
    "        \n",
    "        # valores nulos\n",
    "        print(\"Conteo de valores nulos:\")\n",
    "        print(datos_columna.isnull().sum())\n",
    "        \n",
    "        # valores duplicados\n",
    "        print(\"Número de filas duplicadas:\")\n",
    "        display(df_customer.duplicated(subset=[columna]).sum())\n",
    "       \n",
    "        # valores únicos\n",
    "        print(\"Conteo de valores únicos:\")\n",
    "        print(datos_columna.nunique())\n",
    "        \n",
    "                \n",
    "        # conteo de cada valor\n",
    "        print(\"Conteo de valores:\")\n",
    "        display(datos_columna.value_counts())\n",
    "        \n",
    "        # valor más frecuente (moda)\n",
    "        if not datos_columna.mode().empty:\n",
    "            print(\"Valor más frecuente (moda):\")\n",
    "            display(datos_columna.mode().iloc[0])\n",
    "        \n",
    "        print(\"-\" * 30)\n",
    "\n",
    "# Llamada a la función\n",
    "archivo = 'Customer Loyalty History.csv'  \n",
    "eda_columnas_customers(archivo)\n"
   ]
  }
 ],
 "metadata": {
  "kernelspec": {
   "display_name": "promoI",
   "language": "python",
   "name": "python3"
  },
  "language_info": {
   "codemirror_mode": {
    "name": "ipython",
    "version": 3
   },
   "file_extension": ".py",
   "mimetype": "text/x-python",
   "name": "python",
   "nbconvert_exporter": "python",
   "pygments_lexer": "ipython3",
   "version": "3.9.19"
  }
 },
 "nbformat": 4,
 "nbformat_minor": 2
}
